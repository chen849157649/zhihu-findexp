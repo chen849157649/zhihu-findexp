{
 "cells": [
  {
   "cell_type": "code",
   "execution_count": 1,
   "metadata": {},
   "outputs": [],
   "source": [
    "%load_ext autotime"
   ]
  },
  {
   "cell_type": "code",
   "execution_count": 2,
   "metadata": {},
   "outputs": [
    {
     "name": "stderr",
     "output_type": "stream",
     "text": [
      "100%|██████████| 4513735/4513735 [01:12<00:00, 62485.97it/s]\n",
      "100%|██████████| 1829900/1829900 [00:05<00:00, 340296.00it/s]\n",
      "100%|██████████| 1829900/1829900 [00:25<00:00, 70954.80it/s] \n"
     ]
    },
    {
     "name": "stdout",
     "output_type": "stream",
     "text": [
      "time: 3min 22s\n"
     ]
    }
   ],
   "source": [
    "import pickle\n",
    "\n",
    "import pandas as pd\n",
    "from tqdm import tqdm\n",
    "\n",
    "tqdm.pandas()\n",
    "\n",
    "with open('./pkl/question_info.pkl', 'rb') as f:\n",
    "    question_info = pickle.load(f)\n",
    "\n",
    "with open('./pkl/answer_info.pkl', 'rb') as f:\n",
    "    answer_info = pickle.load(f)\n",
    "\n",
    "answer_info['content_w_series'] = answer_info['content_w_series'].progress_apply(\n",
    "    lambda x: [str(i) for i in x])\n",
    "question_info['title_w_series'] = question_info['title_w_series'].progress_apply(\n",
    "    lambda x: [str(i) for i in x])\n",
    "question_info['desc_w_series'] = question_info['desc_w_series'].progress_apply(\n",
    "    lambda x: [str(i) for i in x])"
   ]
  },
  {
   "cell_type": "code",
   "execution_count": 3,
   "metadata": {},
   "outputs": [
    {
     "ename": "NameError",
     "evalue": "name 'Dictionary' is not defined",
     "output_type": "error",
     "traceback": [
      "\u001b[0;31m---------------------------------------------------------------------------\u001b[0m",
      "\u001b[0;31mNameError\u001b[0m                                 Traceback (most recent call last)",
      "\u001b[0;32m<ipython-input-3-9d67b9270d88>\u001b[0m in \u001b[0;36m<module>\u001b[0;34m()\u001b[0m\n\u001b[1;32m      3\u001b[0m \u001b[0manswer_word_content\u001b[0m \u001b[0;34m=\u001b[0m \u001b[0manswer_info\u001b[0m\u001b[0;34m[\u001b[0m\u001b[0;34m'content_w_series'\u001b[0m\u001b[0;34m]\u001b[0m\u001b[0;34m.\u001b[0m\u001b[0mvalues\u001b[0m\u001b[0;34m.\u001b[0m\u001b[0mtolist\u001b[0m\u001b[0;34m(\u001b[0m\u001b[0;34m)\u001b[0m\u001b[0;34m\u001b[0m\u001b[0m\n\u001b[1;32m      4\u001b[0m \u001b[0;34m\u001b[0m\u001b[0m\n\u001b[0;32m----> 5\u001b[0;31m \u001b[0mdictionary\u001b[0m \u001b[0;34m=\u001b[0m \u001b[0mDictionary\u001b[0m\u001b[0;34m(\u001b[0m\u001b[0mquestion_word_titles\u001b[0m \u001b[0;34m+\u001b[0m \u001b[0mquestion_word_desc\u001b[0m \u001b[0;34m+\u001b[0m \u001b[0manswer_word_content\u001b[0m\u001b[0;34m)\u001b[0m\u001b[0;34m\u001b[0m\u001b[0m\n\u001b[0m",
      "\u001b[0;31mNameError\u001b[0m: name 'Dictionary' is not defined"
     ]
    },
    {
     "name": "stdout",
     "output_type": "stream",
     "text": [
      "time: 319 ms\n"
     ]
    }
   ],
   "source": [
    "question_word_titles = question_info['title_w_series'].values.tolist()\n",
    "question_word_desc = question_info['desc_w_series'].values.tolist()\n",
    "answer_word_content = answer_info['content_w_series'].values.tolist()"
   ]
  },
  {
   "cell_type": "code",
   "execution_count": 4,
   "metadata": {},
   "outputs": [
    {
     "name": "stdout",
     "output_type": "stream",
     "text": [
      "time: 6min 16s\n"
     ]
    }
   ],
   "source": [
    "from gensim.corpora import Dictionary\n",
    "from gensim.models import TfidfModel\n",
    "\n",
    "dictionary = Dictionary(question_word_titles + question_word_desc + answer_word_content)"
   ]
  },
  {
   "cell_type": "code",
   "execution_count": 5,
   "metadata": {},
   "outputs": [
    {
     "name": "stdout",
     "output_type": "stream",
     "text": [
      "time: 1.69 s\n"
     ]
    }
   ],
   "source": [
    "tf_idf_model = TfidfModel(dictionary=dictionary)"
   ]
  },
  {
   "cell_type": "code",
   "execution_count": 6,
   "metadata": {},
   "outputs": [
    {
     "name": "stdout",
     "output_type": "stream",
     "text": [
      "time: 3min 51s\n"
     ]
    }
   ],
   "source": [
    "corpus_q_title = [dictionary.doc2bow(text) for text in question_word_titles]\n",
    "corpus_q_desc = [dictionary.doc2bow(text) for text in question_word_desc]\n",
    "corpus_answer = [dictionary.doc2bow(text) for text in answer_word_content]"
   ]
  },
  {
   "cell_type": "code",
   "execution_count": 9,
   "metadata": {},
   "outputs": [
    {
     "name": "stdout",
     "output_type": "stream",
     "text": [
      "time: 337 ms\n"
     ]
    }
   ],
   "source": [
    "id2token = {v: k for k, v in dictionary.token2id.items()}"
   ]
  },
  {
   "cell_type": "code",
   "execution_count": 8,
   "metadata": {},
   "outputs": [
    {
     "data": {
      "text/plain": [
       "[(0, 0.6087921374576586), (1, 0.6734316353437473), (2, 0.4193589940468448)]"
      ]
     },
     "execution_count": 8,
     "metadata": {},
     "output_type": "execute_result"
    },
    {
     "name": "stdout",
     "output_type": "stream",
     "text": [
      "time: 5.23 ms\n"
     ]
    }
   ],
   "source": [
    "tf_idf_model[corpus_q_title[0]]"
   ]
  },
  {
   "cell_type": "code",
   "execution_count": 15,
   "metadata": {},
   "outputs": [
    {
     "name": "stderr",
     "output_type": "stream",
     "text": [
      "100%|██████████| 1829900/1829900 [02:16<00:00, 13454.21it/s]"
     ]
    },
    {
     "name": "stdout",
     "output_type": "stream",
     "text": [
      "time: 2min 16s\n"
     ]
    },
    {
     "name": "stderr",
     "output_type": "stream",
     "text": [
      "\n"
     ]
    }
   ],
   "source": [
    "def generate_key_words(corpus, top=5):\n",
    "    key_words_result = []\n",
    "    for item in tqdm(corpus):\n",
    "        gensim_dict = {}\n",
    "        for w, n in tf_idf_model[item]:\n",
    "            gensim_dict[id2token.get(w)] = n\n",
    "        key_words = sorted(gensim_dict.items(), key=lambda x: x[1], reverse=True)[:top]\n",
    "        key_words_result.append([int(k) for k, v in key_words])\n",
    "    return key_words_result\n",
    "\n",
    "\n",
    "key_words_q_title_list = generate_key_words(corpus_q_title)"
   ]
  },
  {
   "cell_type": "code",
   "execution_count": 16,
   "metadata": {},
   "outputs": [
    {
     "name": "stderr",
     "output_type": "stream",
     "text": [
      "100%|██████████| 1829900/1829900 [02:40<00:00, 11399.97it/s]\n",
      "100%|██████████| 4513735/4513735 [15:22<00:00, 4893.55it/s]"
     ]
    },
    {
     "name": "stdout",
     "output_type": "stream",
     "text": [
      "time: 18min 2s\n"
     ]
    },
    {
     "name": "stderr",
     "output_type": "stream",
     "text": [
      "\n"
     ]
    }
   ],
   "source": [
    "key_words_q_desc_list = generate_key_words(corpus_q_desc)\n",
    "key_words_answer_list = generate_key_words(corpus_answer)"
   ]
  },
  {
   "cell_type": "code",
   "execution_count": 17,
   "metadata": {},
   "outputs": [
    {
     "name": "stdout",
     "output_type": "stream",
     "text": [
      "[22414, 10458, 963]\n",
      "[0]\n",
      "[13100, 20372, 4527, 10528, 10]\n",
      "time: 1.38 ms\n"
     ]
    }
   ],
   "source": [
    "print(key_words_q_title_list[0])\n",
    "print(key_words_q_desc_list[0])\n",
    "print(key_words_answer_list[0])"
   ]
  },
  {
   "cell_type": "code",
   "execution_count": 18,
   "metadata": {},
   "outputs": [
    {
     "name": "stderr",
     "output_type": "stream",
     "text": [
      "/data/sunrui/anaconda3/lib/python3.6/site-packages/pandas/core/generic.py:2377: PerformanceWarning: \n",
      "your performance may suffer as PyTables will pickle object types that it cannot\n",
      "map directly to c-types [inferred_type->mixed,key->block0_values] [items->['key_words_q_desc']]\n",
      "\n",
      "  return pytables.to_hdf(path_or_buf, key, self, **kwargs)\n",
      "/data/sunrui/anaconda3/lib/python3.6/site-packages/pandas/core/generic.py:2377: PerformanceWarning: \n",
      "your performance may suffer as PyTables will pickle object types that it cannot\n",
      "map directly to c-types [inferred_type->mixed,key->block0_values] [items->['key_words_answer']]\n",
      "\n",
      "  return pytables.to_hdf(path_or_buf, key, self, **kwargs)\n"
     ]
    },
    {
     "name": "stdout",
     "output_type": "stream",
     "text": [
      "time: 10.4 s\n"
     ]
    },
    {
     "name": "stderr",
     "output_type": "stream",
     "text": [
      "/data/sunrui/anaconda3/lib/python3.6/site-packages/pandas/core/generic.py:2377: PerformanceWarning: \n",
      "your performance may suffer as PyTables will pickle object types that it cannot\n",
      "map directly to c-types [inferred_type->mixed,key->block0_values] [items->['key_words_q_title']]\n",
      "\n",
      "  return pytables.to_hdf(path_or_buf, key, self, **kwargs)\n"
     ]
    }
   ],
   "source": [
    "key_words_q_desc_df = pd.DataFrame()\n",
    "key_words_q_desc_df['key_words_q_desc'] = key_words_q_desc_list\n",
    "key_words_q_desc_df.to_hdf('./key_words_q_desc_gensim.h5', key='data')\n",
    "\n",
    "key_words_answer_df = pd.DataFrame()\n",
    "key_words_answer_df['key_words_answer'] = key_words_answer_list\n",
    "key_words_answer_df.to_hdf('./key_words_answer_gensim.h5', key='data')\n",
    "\n",
    "key_words_q_title_df = pd.DataFrame()\n",
    "key_words_q_title_df['key_words_q_title'] = key_words_q_title_list\n",
    "key_words_q_title_df.to_hdf('./key_words_q_title_gensim.h5', key='data')"
   ]
  },
  {
   "cell_type": "code",
   "execution_count": 19,
   "metadata": {},
   "outputs": [
    {
     "data": {
      "text/html": [
       "<div>\n",
       "<style scoped>\n",
       "    .dataframe tbody tr th:only-of-type {\n",
       "        vertical-align: middle;\n",
       "    }\n",
       "\n",
       "    .dataframe tbody tr th {\n",
       "        vertical-align: top;\n",
       "    }\n",
       "\n",
       "    .dataframe thead th {\n",
       "        text-align: right;\n",
       "    }\n",
       "</style>\n",
       "<table border=\"1\" class=\"dataframe\">\n",
       "  <thead>\n",
       "    <tr style=\"text-align: right;\">\n",
       "      <th></th>\n",
       "      <th>key_words_q_desc</th>\n",
       "    </tr>\n",
       "  </thead>\n",
       "  <tbody>\n",
       "    <tr>\n",
       "      <th>0</th>\n",
       "      <td>[0]</td>\n",
       "    </tr>\n",
       "    <tr>\n",
       "      <th>1</th>\n",
       "      <td>[12677, 101839, 16829, 15201, 10609]</td>\n",
       "    </tr>\n",
       "    <tr>\n",
       "      <th>2</th>\n",
       "      <td>[118371, 194699, 72883, 20788, 219486]</td>\n",
       "    </tr>\n",
       "    <tr>\n",
       "      <th>3</th>\n",
       "      <td>[12519, 7177, 6642, 3293, 3312]</td>\n",
       "    </tr>\n",
       "    <tr>\n",
       "      <th>4</th>\n",
       "      <td>[0]</td>\n",
       "    </tr>\n",
       "  </tbody>\n",
       "</table>\n",
       "</div>"
      ],
      "text/plain": [
       "                         key_words_q_desc\n",
       "0                                     [0]\n",
       "1    [12677, 101839, 16829, 15201, 10609]\n",
       "2  [118371, 194699, 72883, 20788, 219486]\n",
       "3         [12519, 7177, 6642, 3293, 3312]\n",
       "4                                     [0]"
      ]
     },
     "metadata": {},
     "output_type": "display_data"
    },
    {
     "data": {
      "text/html": [
       "<div>\n",
       "<style scoped>\n",
       "    .dataframe tbody tr th:only-of-type {\n",
       "        vertical-align: middle;\n",
       "    }\n",
       "\n",
       "    .dataframe tbody tr th {\n",
       "        vertical-align: top;\n",
       "    }\n",
       "\n",
       "    .dataframe thead th {\n",
       "        text-align: right;\n",
       "    }\n",
       "</style>\n",
       "<table border=\"1\" class=\"dataframe\">\n",
       "  <thead>\n",
       "    <tr style=\"text-align: right;\">\n",
       "      <th></th>\n",
       "      <th>key_words_answer</th>\n",
       "    </tr>\n",
       "  </thead>\n",
       "  <tbody>\n",
       "    <tr>\n",
       "      <th>0</th>\n",
       "      <td>[13100, 20372, 4527, 10528, 10]</td>\n",
       "    </tr>\n",
       "    <tr>\n",
       "      <th>1</th>\n",
       "      <td>[53385, 109029, 151399, 66060, 157]</td>\n",
       "    </tr>\n",
       "    <tr>\n",
       "      <th>2</th>\n",
       "      <td>[107789, 81311, 69108, 31394, 12395]</td>\n",
       "    </tr>\n",
       "    <tr>\n",
       "      <th>3</th>\n",
       "      <td>[8342, 6485, 9689, 3727, 3700]</td>\n",
       "    </tr>\n",
       "    <tr>\n",
       "      <th>4</th>\n",
       "      <td>[23420, 8749, 9867, 5506, 1718]</td>\n",
       "    </tr>\n",
       "  </tbody>\n",
       "</table>\n",
       "</div>"
      ],
      "text/plain": [
       "                       key_words_answer\n",
       "0       [13100, 20372, 4527, 10528, 10]\n",
       "1   [53385, 109029, 151399, 66060, 157]\n",
       "2  [107789, 81311, 69108, 31394, 12395]\n",
       "3        [8342, 6485, 9689, 3727, 3700]\n",
       "4       [23420, 8749, 9867, 5506, 1718]"
      ]
     },
     "metadata": {},
     "output_type": "display_data"
    },
    {
     "data": {
      "text/html": [
       "<div>\n",
       "<style scoped>\n",
       "    .dataframe tbody tr th:only-of-type {\n",
       "        vertical-align: middle;\n",
       "    }\n",
       "\n",
       "    .dataframe tbody tr th {\n",
       "        vertical-align: top;\n",
       "    }\n",
       "\n",
       "    .dataframe thead th {\n",
       "        text-align: right;\n",
       "    }\n",
       "</style>\n",
       "<table border=\"1\" class=\"dataframe\">\n",
       "  <thead>\n",
       "    <tr style=\"text-align: right;\">\n",
       "      <th></th>\n",
       "      <th>key_words_q_title</th>\n",
       "    </tr>\n",
       "  </thead>\n",
       "  <tbody>\n",
       "    <tr>\n",
       "      <th>0</th>\n",
       "      <td>[22414, 10458, 963]</td>\n",
       "    </tr>\n",
       "    <tr>\n",
       "      <th>1</th>\n",
       "      <td>[101839, 16829, 15201, 12677, 6419]</td>\n",
       "    </tr>\n",
       "    <tr>\n",
       "      <th>2</th>\n",
       "      <td>[81215, 3280, 2781, 700]</td>\n",
       "    </tr>\n",
       "    <tr>\n",
       "      <th>3</th>\n",
       "      <td>[3312, 1823, 1505, 638, 461]</td>\n",
       "    </tr>\n",
       "    <tr>\n",
       "      <th>4</th>\n",
       "      <td>[2253, 895, 700]</td>\n",
       "    </tr>\n",
       "  </tbody>\n",
       "</table>\n",
       "</div>"
      ],
      "text/plain": [
       "                     key_words_q_title\n",
       "0                  [22414, 10458, 963]\n",
       "1  [101839, 16829, 15201, 12677, 6419]\n",
       "2             [81215, 3280, 2781, 700]\n",
       "3         [3312, 1823, 1505, 638, 461]\n",
       "4                     [2253, 895, 700]"
      ]
     },
     "metadata": {},
     "output_type": "display_data"
    },
    {
     "name": "stdout",
     "output_type": "stream",
     "text": [
      "time: 14.7 ms\n"
     ]
    }
   ],
   "source": [
    "display(key_words_q_desc_df.head())\n",
    "display(key_words_answer_df.head())\n",
    "display(key_words_q_title_df.head())"
   ]
  },
  {
   "cell_type": "code",
   "execution_count": 1,
   "metadata": {},
   "outputs": [],
   "source": [
    "import pandas as pd\n",
    "\n",
    "key_words_q_desc = pd.read_hdf('./key_words_q_desc_gensim.h5', key='data')"
   ]
  },
  {
   "cell_type": "code",
   "execution_count": 2,
   "metadata": {},
   "outputs": [
    {
     "data": {
      "text/html": [
       "<div>\n",
       "<style scoped>\n",
       "    .dataframe tbody tr th:only-of-type {\n",
       "        vertical-align: middle;\n",
       "    }\n",
       "\n",
       "    .dataframe tbody tr th {\n",
       "        vertical-align: top;\n",
       "    }\n",
       "\n",
       "    .dataframe thead th {\n",
       "        text-align: right;\n",
       "    }\n",
       "</style>\n",
       "<table border=\"1\" class=\"dataframe\">\n",
       "  <thead>\n",
       "    <tr style=\"text-align: right;\">\n",
       "      <th></th>\n",
       "      <th>key_words_q_desc</th>\n",
       "    </tr>\n",
       "  </thead>\n",
       "  <tbody>\n",
       "    <tr>\n",
       "      <th>0</th>\n",
       "      <td>[0]</td>\n",
       "    </tr>\n",
       "    <tr>\n",
       "      <th>1</th>\n",
       "      <td>[12677, 101839, 16829, 15201, 10609]</td>\n",
       "    </tr>\n",
       "    <tr>\n",
       "      <th>2</th>\n",
       "      <td>[118371, 194699, 72883, 20788, 219486]</td>\n",
       "    </tr>\n",
       "    <tr>\n",
       "      <th>3</th>\n",
       "      <td>[12519, 7177, 6642, 3293, 3312]</td>\n",
       "    </tr>\n",
       "    <tr>\n",
       "      <th>4</th>\n",
       "      <td>[0]</td>\n",
       "    </tr>\n",
       "  </tbody>\n",
       "</table>\n",
       "</div>"
      ],
      "text/plain": [
       "                         key_words_q_desc\n",
       "0                                     [0]\n",
       "1    [12677, 101839, 16829, 15201, 10609]\n",
       "2  [118371, 194699, 72883, 20788, 219486]\n",
       "3         [12519, 7177, 6642, 3293, 3312]\n",
       "4                                     [0]"
      ]
     },
     "execution_count": 2,
     "metadata": {},
     "output_type": "execute_result"
    }
   ],
   "source": [
    "key_words_q_desc.head()"
   ]
  },
  {
   "cell_type": "code",
   "execution_count": 3,
   "metadata": {},
   "outputs": [
    {
     "data": {
      "text/plain": [
       "163552"
      ]
     },
     "execution_count": 3,
     "metadata": {},
     "output_type": "execute_result"
    }
   ],
   "source": []
  },
  {
   "cell_type": "code",
   "execution_count": null,
   "metadata": {},
   "outputs": [],
   "source": []
  }
 ],
 "metadata": {
  "kernelspec": {
   "display_name": "Python 3",
   "language": "python",
   "name": "python3"
  },
  "language_info": {
   "codemirror_mode": {
    "name": "ipython",
    "version": 3
   },
   "file_extension": ".py",
   "mimetype": "text/x-python",
   "name": "python",
   "nbconvert_exporter": "python",
   "pygments_lexer": "ipython3",
   "version": "3.6.5"
  }
 },
 "nbformat": 4,
 "nbformat_minor": 2
}
