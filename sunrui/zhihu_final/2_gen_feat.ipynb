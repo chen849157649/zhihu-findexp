{
 "cells": [
  {
   "cell_type": "code",
   "execution_count": 1,
   "metadata": {},
   "outputs": [],
   "source": [
    "import warnings\n",
    "warnings.filterwarnings('ignore')"
   ]
  },
  {
   "cell_type": "code",
   "execution_count": 2,
   "metadata": {},
   "outputs": [],
   "source": [
    "import pandas as pd\n",
    "import numpy as np\n",
    "import pickle\n",
    "import gc\n",
    "import os\n",
    "import time\n",
    "import multiprocessing as mp"
   ]
  },
  {
   "cell_type": "code",
   "execution_count": 3,
   "metadata": {},
   "outputs": [],
   "source": [
    "from sklearn.preprocessing import LabelEncoder"
   ]
  },
  {
   "cell_type": "code",
   "execution_count": 4,
   "metadata": {},
   "outputs": [],
   "source": [
    "tic = time.time()"
   ]
  },
  {
   "cell_type": "code",
   "execution_count": 5,
   "metadata": {},
   "outputs": [],
   "source": [
    "SAVE_PATH = '../feats'\n",
    "if not os.path.exists(SAVE_PATH):\n",
    "    print('create dir: %s' % SAVE_PATH)\n",
    "    os.mkdir(SAVE_PATH)"
   ]
  },
  {
   "cell_type": "markdown",
   "metadata": {},
   "source": [
    "### member_info: 用户特征"
   ]
  },
  {
   "cell_type": "code",
   "execution_count": 6,
   "metadata": {},
   "outputs": [
    {
     "data": {
      "text/html": [
       "<div>\n",
       "<style scoped>\n",
       "    .dataframe tbody tr th:only-of-type {\n",
       "        vertical-align: middle;\n",
       "    }\n",
       "\n",
       "    .dataframe tbody tr th {\n",
       "        vertical-align: top;\n",
       "    }\n",
       "\n",
       "    .dataframe thead th {\n",
       "        text-align: right;\n",
       "    }\n",
       "</style>\n",
       "<table border=\"1\" class=\"dataframe\">\n",
       "  <thead>\n",
       "    <tr style=\"text-align: right;\">\n",
       "      <th></th>\n",
       "      <th>author_id</th>\n",
       "      <th>gender</th>\n",
       "      <th>keyword</th>\n",
       "      <th>grade</th>\n",
       "      <th>hotness</th>\n",
       "      <th>reg_type</th>\n",
       "      <th>reg_plat</th>\n",
       "      <th>freq</th>\n",
       "      <th>A1</th>\n",
       "      <th>B1</th>\n",
       "      <th>...</th>\n",
       "      <th>D1</th>\n",
       "      <th>E1</th>\n",
       "      <th>A2</th>\n",
       "      <th>B2</th>\n",
       "      <th>C2</th>\n",
       "      <th>D2</th>\n",
       "      <th>E2</th>\n",
       "      <th>score</th>\n",
       "      <th>topic_attent</th>\n",
       "      <th>topic_interest</th>\n",
       "    </tr>\n",
       "  </thead>\n",
       "  <tbody>\n",
       "    <tr>\n",
       "      <td>0</td>\n",
       "      <td>M1934753188</td>\n",
       "      <td>male</td>\n",
       "      <td>-1</td>\n",
       "      <td>0.0</td>\n",
       "      <td>0.0</td>\n",
       "      <td>unknown</td>\n",
       "      <td>unknown</td>\n",
       "      <td>monthly</td>\n",
       "      <td>0</td>\n",
       "      <td>1</td>\n",
       "      <td>...</td>\n",
       "      <td>1</td>\n",
       "      <td>0</td>\n",
       "      <td>MD470265</td>\n",
       "      <td>BR470265</td>\n",
       "      <td>PV929066</td>\n",
       "      <td>CT929066</td>\n",
       "      <td>PF470265</td>\n",
       "      <td>764</td>\n",
       "      <td>[540]</td>\n",
       "      <td>{21107: 1.7915097, 405: 1.6123838, 4436: 1.518...</td>\n",
       "    </tr>\n",
       "    <tr>\n",
       "      <td>1</td>\n",
       "      <td>M595924114</td>\n",
       "      <td>male</td>\n",
       "      <td>-1</td>\n",
       "      <td>0.0</td>\n",
       "      <td>0.0</td>\n",
       "      <td>unknown</td>\n",
       "      <td>unknown</td>\n",
       "      <td>daily</td>\n",
       "      <td>0</td>\n",
       "      <td>0</td>\n",
       "      <td>...</td>\n",
       "      <td>1</td>\n",
       "      <td>1</td>\n",
       "      <td>MD195122</td>\n",
       "      <td>BR596936</td>\n",
       "      <td>PV002320</td>\n",
       "      <td>CT840234</td>\n",
       "      <td>PF470265</td>\n",
       "      <td>671</td>\n",
       "      <td>[44126, 15940, 839, 8978, 2934, 1113, 3914, 12...</td>\n",
       "      <td>{18016: 2.0650618, 2384: 1.2503042, 1142: 1.13...</td>\n",
       "    </tr>\n",
       "  </tbody>\n",
       "</table>\n",
       "<p>2 rows × 21 columns</p>\n",
       "</div>"
      ],
      "text/plain": [
       "     author_id gender  keyword  grade  hotness reg_type reg_plat     freq  A1  \\\n",
       "0  M1934753188   male       -1    0.0      0.0  unknown  unknown  monthly   0   \n",
       "1   M595924114   male       -1    0.0      0.0  unknown  unknown    daily   0   \n",
       "\n",
       "   B1  ...  D1  E1        A2        B2        C2        D2        E2 score  \\\n",
       "0   1  ...   1   0  MD470265  BR470265  PV929066  CT929066  PF470265   764   \n",
       "1   0  ...   1   1  MD195122  BR596936  PV002320  CT840234  PF470265   671   \n",
       "\n",
       "                                        topic_attent  \\\n",
       "0                                              [540]   \n",
       "1  [44126, 15940, 839, 8978, 2934, 1113, 3914, 12...   \n",
       "\n",
       "                                      topic_interest  \n",
       "0  {21107: 1.7915097, 405: 1.6123838, 4436: 1.518...  \n",
       "1  {18016: 2.0650618, 2384: 1.2503042, 1142: 1.13...  \n",
       "\n",
       "[2 rows x 21 columns]"
      ]
     },
     "execution_count": 6,
     "metadata": {},
     "output_type": "execute_result"
    }
   ],
   "source": [
    "with open('../pkl/member_info.pkl', 'rb') as file:\n",
    "    member_info = pickle.load(file)\n",
    "member_info.head(2)"
   ]
  },
  {
   "cell_type": "code",
   "execution_count": 7,
   "metadata": {},
   "outputs": [],
   "source": [
    "# 原始类别特征\n",
    "member_cat_feats = ['gender', 'freq', 'A1', 'B1', 'C1', 'D1', 'E1', 'A2', 'B2', 'C2', 'D2', 'E2']\n",
    "for feat in member_cat_feats:\n",
    "    member_info[feat] = LabelEncoder().fit_transform(member_info[feat])"
   ]
  },
  {
   "cell_type": "code",
   "execution_count": 8,
   "metadata": {},
   "outputs": [],
   "source": [
    "# 用户关注和感兴趣的topic数\n",
    "member_info['num_atten_topic'] = member_info['topic_attent'].apply(len)\n",
    "member_info['num_interest_topic'] = member_info['topic_interest'].apply(len)"
   ]
  },
  {
   "cell_type": "code",
   "execution_count": 9,
   "metadata": {},
   "outputs": [],
   "source": [
    "def most_interest_topic(d):\n",
    "    if len(d) == 0:\n",
    "        return -1\n",
    "    return list(d.keys())[np.argmax(list(d.values()))]"
   ]
  },
  {
   "cell_type": "code",
   "execution_count": 10,
   "metadata": {},
   "outputs": [],
   "source": [
    "# 用户最感兴趣的topic\n",
    "member_info['most_interest_topic'] = member_info['topic_interest'].apply(most_interest_topic)\n",
    "member_info['most_interest_topic'] = LabelEncoder().fit_transform(member_info['most_interest_topic'])"
   ]
  },
  {
   "cell_type": "code",
   "execution_count": 11,
   "metadata": {},
   "outputs": [],
   "source": [
    "def get_interest_values(d):\n",
    "    if len(d) == 0:\n",
    "        return [0]\n",
    "    return list(d.values())"
   ]
  },
  {
   "cell_type": "code",
   "execution_count": 12,
   "metadata": {},
   "outputs": [],
   "source": [
    "# 用户topic兴趣值的统计特征\n",
    "member_info['interest_values'] = member_info['topic_interest'].apply(get_interest_values)\n",
    "member_info['min_interest_values'] = member_info['interest_values'].apply(np.min)\n",
    "member_info['max_interest_values'] = member_info['interest_values'].apply(np.max)\n",
    "member_info['mean_interest_values'] = member_info['interest_values'].apply(np.mean)\n",
    "member_info['std_interest_values'] = member_info['interest_values'].apply(np.std)"
   ]
  },
  {
   "cell_type": "code",
   "execution_count": 13,
   "metadata": {},
   "outputs": [],
   "source": [
    "# 汇总\n",
    "feats = ['author_id', 'gender', 'freq', 'A1', 'B1', 'C1', 'D1', 'E1', 'A2', 'B2', 'C2', 'D2', 'E2', 'score']\n",
    "feats += ['num_atten_topic', 'num_interest_topic', 'most_interest_topic']\n",
    "feats += ['min_interest_values', 'max_interest_values', 'mean_interest_values', 'std_interest_values']\n",
    "member_feat = member_info[feats]"
   ]
  },
  {
   "cell_type": "code",
   "execution_count": 14,
   "metadata": {},
   "outputs": [
    {
     "data": {
      "text/html": [
       "<div>\n",
       "<style scoped>\n",
       "    .dataframe tbody tr th:only-of-type {\n",
       "        vertical-align: middle;\n",
       "    }\n",
       "\n",
       "    .dataframe tbody tr th {\n",
       "        vertical-align: top;\n",
       "    }\n",
       "\n",
       "    .dataframe thead th {\n",
       "        text-align: right;\n",
       "    }\n",
       "</style>\n",
       "<table border=\"1\" class=\"dataframe\">\n",
       "  <thead>\n",
       "    <tr style=\"text-align: right;\">\n",
       "      <th></th>\n",
       "      <th>author_id</th>\n",
       "      <th>gender</th>\n",
       "      <th>freq</th>\n",
       "      <th>A1</th>\n",
       "      <th>B1</th>\n",
       "      <th>C1</th>\n",
       "      <th>D1</th>\n",
       "      <th>E1</th>\n",
       "      <th>A2</th>\n",
       "      <th>B2</th>\n",
       "      <th>...</th>\n",
       "      <th>D2</th>\n",
       "      <th>E2</th>\n",
       "      <th>score</th>\n",
       "      <th>num_atten_topic</th>\n",
       "      <th>num_interest_topic</th>\n",
       "      <th>most_interest_topic</th>\n",
       "      <th>min_interest_values</th>\n",
       "      <th>max_interest_values</th>\n",
       "      <th>mean_interest_values</th>\n",
       "      <th>std_interest_values</th>\n",
       "    </tr>\n",
       "  </thead>\n",
       "  <tbody>\n",
       "    <tr>\n",
       "      <td>0</td>\n",
       "      <td>M1934753188</td>\n",
       "      <td>1</td>\n",
       "      <td>1</td>\n",
       "      <td>0</td>\n",
       "      <td>1</td>\n",
       "      <td>0</td>\n",
       "      <td>1</td>\n",
       "      <td>0</td>\n",
       "      <td>1190</td>\n",
       "      <td>130</td>\n",
       "      <td>...</td>\n",
       "      <td>1438</td>\n",
       "      <td>1</td>\n",
       "      <td>764</td>\n",
       "      <td>1</td>\n",
       "      <td>10</td>\n",
       "      <td>14964</td>\n",
       "      <td>1.326969</td>\n",
       "      <td>1.791510</td>\n",
       "      <td>1.459742</td>\n",
       "      <td>0.139273</td>\n",
       "    </tr>\n",
       "    <tr>\n",
       "      <td>1</td>\n",
       "      <td>M595924114</td>\n",
       "      <td>1</td>\n",
       "      <td>0</td>\n",
       "      <td>0</td>\n",
       "      <td>0</td>\n",
       "      <td>0</td>\n",
       "      <td>1</td>\n",
       "      <td>1</td>\n",
       "      <td>486</td>\n",
       "      <td>170</td>\n",
       "      <td>...</td>\n",
       "      <td>1311</td>\n",
       "      <td>1</td>\n",
       "      <td>671</td>\n",
       "      <td>30</td>\n",
       "      <td>10</td>\n",
       "      <td>13662</td>\n",
       "      <td>0.851706</td>\n",
       "      <td>2.065062</td>\n",
       "      <td>1.114788</td>\n",
       "      <td>0.339216</td>\n",
       "    </tr>\n",
       "    <tr>\n",
       "      <td>2</td>\n",
       "      <td>M1473482940</td>\n",
       "      <td>0</td>\n",
       "      <td>4</td>\n",
       "      <td>0</td>\n",
       "      <td>1</td>\n",
       "      <td>0</td>\n",
       "      <td>1</td>\n",
       "      <td>0</td>\n",
       "      <td>294</td>\n",
       "      <td>190</td>\n",
       "      <td>...</td>\n",
       "      <td>758</td>\n",
       "      <td>1</td>\n",
       "      <td>454</td>\n",
       "      <td>24</td>\n",
       "      <td>10</td>\n",
       "      <td>45</td>\n",
       "      <td>0.811265</td>\n",
       "      <td>1.330939</td>\n",
       "      <td>1.010897</td>\n",
       "      <td>0.151768</td>\n",
       "    </tr>\n",
       "  </tbody>\n",
       "</table>\n",
       "<p>3 rows × 21 columns</p>\n",
       "</div>"
      ],
      "text/plain": [
       "     author_id  gender  freq  A1  B1  C1  D1  E1    A2   B2  ...    D2  E2  \\\n",
       "0  M1934753188       1     1   0   1   0   1   0  1190  130  ...  1438   1   \n",
       "1   M595924114       1     0   0   0   0   1   1   486  170  ...  1311   1   \n",
       "2  M1473482940       0     4   0   1   0   1   0   294  190  ...   758   1   \n",
       "\n",
       "   score  num_atten_topic  num_interest_topic  most_interest_topic  \\\n",
       "0    764                1                  10                14964   \n",
       "1    671               30                  10                13662   \n",
       "2    454               24                  10                   45   \n",
       "\n",
       "   min_interest_values  max_interest_values  mean_interest_values  \\\n",
       "0             1.326969             1.791510              1.459742   \n",
       "1             0.851706             2.065062              1.114788   \n",
       "2             0.811265             1.330939              1.010897   \n",
       "\n",
       "   std_interest_values  \n",
       "0             0.139273  \n",
       "1             0.339216  \n",
       "2             0.151768  \n",
       "\n",
       "[3 rows x 21 columns]"
      ]
     },
     "execution_count": 14,
     "metadata": {},
     "output_type": "execute_result"
    }
   ],
   "source": [
    "member_feat.head(3)"
   ]
  },
  {
   "cell_type": "code",
   "execution_count": 15,
   "metadata": {},
   "outputs": [
    {
     "data": {
      "text/plain": [
       "55"
      ]
     },
     "execution_count": 15,
     "metadata": {},
     "output_type": "execute_result"
    }
   ],
   "source": [
    "member_feat.to_hdf('./feats/member_feat.h5', key='data')\n",
    "\n",
    "del member_feat, member_info\n",
    "gc.collect()"
   ]
  },
  {
   "cell_type": "markdown",
   "metadata": {},
   "source": [
    "### question_info: 问题特征"
   ]
  },
  {
   "cell_type": "code",
   "execution_count": 16,
   "metadata": {},
   "outputs": [
    {
     "data": {
      "text/html": [
       "<div>\n",
       "<style scoped>\n",
       "    .dataframe tbody tr th:only-of-type {\n",
       "        vertical-align: middle;\n",
       "    }\n",
       "\n",
       "    .dataframe tbody tr th {\n",
       "        vertical-align: top;\n",
       "    }\n",
       "\n",
       "    .dataframe thead th {\n",
       "        text-align: right;\n",
       "    }\n",
       "</style>\n",
       "<table border=\"1\" class=\"dataframe\">\n",
       "  <thead>\n",
       "    <tr style=\"text-align: right;\">\n",
       "      <th></th>\n",
       "      <th>question_id</th>\n",
       "      <th>title_sw_series</th>\n",
       "      <th>title_w_series</th>\n",
       "      <th>desc_sw_series</th>\n",
       "      <th>desc_w_series</th>\n",
       "      <th>topic</th>\n",
       "      <th>question_day</th>\n",
       "      <th>question_hour</th>\n",
       "    </tr>\n",
       "  </thead>\n",
       "  <tbody>\n",
       "    <tr>\n",
       "      <td>0</td>\n",
       "      <td>Q2234111670</td>\n",
       "      <td>[211, 204, 1715, 69, 2033, 138, 57, 138, 8, 28...</td>\n",
       "      <td>[22414, 963, 10458]</td>\n",
       "      <td>[0]</td>\n",
       "      <td>[0]</td>\n",
       "      <td>[321, 730, 5784, 4389]</td>\n",
       "      <td>1018</td>\n",
       "      <td>5</td>\n",
       "    </tr>\n",
       "    <tr>\n",
       "      <td>1</td>\n",
       "      <td>Q760329790</td>\n",
       "      <td>[69, 2033, 138, 2616, 2668, 36, 2594, 1165, 20...</td>\n",
       "      <td>[12677, 16829, 15201, 6419, 101839]</td>\n",
       "      <td>[146, 982, 401, 297, 17, 2616, 2668, 36, 2594,...</td>\n",
       "      <td>[1296, 2118, 12677, 16829, 15201, 6419, 101839...</td>\n",
       "      <td>[278, 12673, 4677]</td>\n",
       "      <td>1745</td>\n",
       "      <td>20</td>\n",
       "    </tr>\n",
       "  </tbody>\n",
       "</table>\n",
       "</div>"
      ],
      "text/plain": [
       "   question_id                                    title_sw_series  \\\n",
       "0  Q2234111670  [211, 204, 1715, 69, 2033, 138, 57, 138, 8, 28...   \n",
       "1   Q760329790  [69, 2033, 138, 2616, 2668, 36, 2594, 1165, 20...   \n",
       "\n",
       "                        title_w_series  \\\n",
       "0                  [22414, 963, 10458]   \n",
       "1  [12677, 16829, 15201, 6419, 101839]   \n",
       "\n",
       "                                      desc_sw_series  \\\n",
       "0                                                [0]   \n",
       "1  [146, 982, 401, 297, 17, 2616, 2668, 36, 2594,...   \n",
       "\n",
       "                                       desc_w_series                   topic  \\\n",
       "0                                                [0]  [321, 730, 5784, 4389]   \n",
       "1  [1296, 2118, 12677, 16829, 15201, 6419, 101839...      [278, 12673, 4677]   \n",
       "\n",
       "   question_day  question_hour  \n",
       "0          1018              5  \n",
       "1          1745             20  "
      ]
     },
     "execution_count": 16,
     "metadata": {},
     "output_type": "execute_result"
    }
   ],
   "source": [
    "with open('../pkl/question_info.pkl', 'rb') as file:\n",
    "    question_info = pickle.load(file)\n",
    "    \n",
    "question_info.head(2)"
   ]
  },
  {
   "cell_type": "code",
   "execution_count": 17,
   "metadata": {},
   "outputs": [],
   "source": [
    "# title、desc词计数，topic计数\n",
    "question_info['num_title_sw'] = question_info['title_sw_series'].apply(len)\n",
    "question_info['num_title_w'] = question_info['title_w_series'].apply(len)\n",
    "question_info['num_desc_sw'] = question_info['desc_sw_series'].apply(len)\n",
    "question_info['num_desc_w'] = question_info['desc_w_series'].apply(len)\n",
    "question_info['num_qtopic'] = question_info['topic'].apply(len)"
   ]
  },
  {
   "cell_type": "code",
   "execution_count": 18,
   "metadata": {},
   "outputs": [],
   "source": [
    "feats = ['question_id', 'num_title_sw', 'num_title_w', 'num_desc_sw', 'num_desc_w', 'num_qtopic', 'question_hour']\n",
    "feats += []\n",
    "question_feat = question_info[feats]"
   ]
  },
  {
   "cell_type": "code",
   "execution_count": 19,
   "metadata": {},
   "outputs": [
    {
     "data": {
      "text/html": [
       "<div>\n",
       "<style scoped>\n",
       "    .dataframe tbody tr th:only-of-type {\n",
       "        vertical-align: middle;\n",
       "    }\n",
       "\n",
       "    .dataframe tbody tr th {\n",
       "        vertical-align: top;\n",
       "    }\n",
       "\n",
       "    .dataframe thead th {\n",
       "        text-align: right;\n",
       "    }\n",
       "</style>\n",
       "<table border=\"1\" class=\"dataframe\">\n",
       "  <thead>\n",
       "    <tr style=\"text-align: right;\">\n",
       "      <th></th>\n",
       "      <th>question_id</th>\n",
       "      <th>num_title_sw</th>\n",
       "      <th>num_title_w</th>\n",
       "      <th>num_desc_sw</th>\n",
       "      <th>num_desc_w</th>\n",
       "      <th>num_qtopic</th>\n",
       "      <th>question_hour</th>\n",
       "    </tr>\n",
       "  </thead>\n",
       "  <tbody>\n",
       "    <tr>\n",
       "      <td>0</td>\n",
       "      <td>Q2234111670</td>\n",
       "      <td>13</td>\n",
       "      <td>3</td>\n",
       "      <td>1</td>\n",
       "      <td>1</td>\n",
       "      <td>4</td>\n",
       "      <td>5</td>\n",
       "    </tr>\n",
       "    <tr>\n",
       "      <td>1</td>\n",
       "      <td>Q760329790</td>\n",
       "      <td>17</td>\n",
       "      <td>5</td>\n",
       "      <td>42</td>\n",
       "      <td>13</td>\n",
       "      <td>3</td>\n",
       "      <td>20</td>\n",
       "    </tr>\n",
       "    <tr>\n",
       "      <td>2</td>\n",
       "      <td>Q741313548</td>\n",
       "      <td>13</td>\n",
       "      <td>4</td>\n",
       "      <td>68</td>\n",
       "      <td>10</td>\n",
       "      <td>1</td>\n",
       "      <td>21</td>\n",
       "    </tr>\n",
       "  </tbody>\n",
       "</table>\n",
       "</div>"
      ],
      "text/plain": [
       "   question_id  num_title_sw  num_title_w  num_desc_sw  num_desc_w  \\\n",
       "0  Q2234111670            13            3            1           1   \n",
       "1   Q760329790            17            5           42          13   \n",
       "2   Q741313548            13            4           68          10   \n",
       "\n",
       "   num_qtopic  question_hour  \n",
       "0           4              5  \n",
       "1           3             20  \n",
       "2           1             21  "
      ]
     },
     "execution_count": 19,
     "metadata": {},
     "output_type": "execute_result"
    }
   ],
   "source": [
    "question_feat.head(3)"
   ]
  },
  {
   "cell_type": "code",
   "execution_count": 20,
   "metadata": {},
   "outputs": [],
   "source": [
    "question_feat.to_hdf('./feats/question_feat.h5', key='data')"
   ]
  },
  {
   "cell_type": "code",
   "execution_count": 21,
   "metadata": {},
   "outputs": [
    {
     "data": {
      "text/plain": [
       "44"
      ]
     },
     "execution_count": 21,
     "metadata": {},
     "output_type": "execute_result"
    }
   ],
   "source": [
    "del question_info, question_feat\n",
    "gc.collect()"
   ]
  },
  {
   "cell_type": "markdown",
   "metadata": {},
   "source": [
    "### member_info & question_info: 用户和问题的交互特征"
   ]
  },
  {
   "cell_type": "code",
   "execution_count": 22,
   "metadata": {},
   "outputs": [],
   "source": [
    "with open('../pkl/invite_info.pkl', 'rb') as file:\n",
    "    invite_info = pickle.load(file)\n",
    "with open('../pkl/invite_info_evaluate.pkl', 'rb') as file:\n",
    "    invite_info_evaluate = pickle.load(file)\n",
    "with open('../pkl/member_info.pkl', 'rb') as file:\n",
    "    member_info = pickle.load(file)\n",
    "with open('../pkl/question_info.pkl', 'rb') as file:\n",
    "    question_info = pickle.load(file)"
   ]
  },
  {
   "cell_type": "code",
   "execution_count": 23,
   "metadata": {},
   "outputs": [
    {
     "data": {
      "text/html": [
       "<div>\n",
       "<style scoped>\n",
       "    .dataframe tbody tr th:only-of-type {\n",
       "        vertical-align: middle;\n",
       "    }\n",
       "\n",
       "    .dataframe tbody tr th {\n",
       "        vertical-align: top;\n",
       "    }\n",
       "\n",
       "    .dataframe thead th {\n",
       "        text-align: right;\n",
       "    }\n",
       "</style>\n",
       "<table border=\"1\" class=\"dataframe\">\n",
       "  <thead>\n",
       "    <tr style=\"text-align: right;\">\n",
       "      <th></th>\n",
       "      <th>author_id</th>\n",
       "      <th>question_id</th>\n",
       "      <th>author_question_id</th>\n",
       "      <th>topic_attent</th>\n",
       "      <th>topic_interest</th>\n",
       "      <th>topic</th>\n",
       "    </tr>\n",
       "  </thead>\n",
       "  <tbody>\n",
       "    <tr>\n",
       "      <td>0</td>\n",
       "      <td>M401693808</td>\n",
       "      <td>Q2166419046</td>\n",
       "      <td>M401693808Q2166419046</td>\n",
       "      <td>[1727, 5310, 3402, 916, 1506, 26329, 7293, 180...</td>\n",
       "      <td>{2794: 1.1527717, 9701: 0.94830835, 9533: 0.85...</td>\n",
       "      <td>[456, 112, 9566, 5310]</td>\n",
       "    </tr>\n",
       "    <tr>\n",
       "      <td>1</td>\n",
       "      <td>M3392373099</td>\n",
       "      <td>Q1550017551</td>\n",
       "      <td>M3392373099Q1550017551</td>\n",
       "      <td>[42595, 3, 8520, 597, 6485, 6212, 25664, 148, ...</td>\n",
       "      <td>{1470: 1.4682752, 235: 1.4412646, 4692: 1.3516...</td>\n",
       "      <td>[2, 3095]</td>\n",
       "    </tr>\n",
       "  </tbody>\n",
       "</table>\n",
       "</div>"
      ],
      "text/plain": [
       "     author_id  question_id      author_question_id  \\\n",
       "0   M401693808  Q2166419046   M401693808Q2166419046   \n",
       "1  M3392373099  Q1550017551  M3392373099Q1550017551   \n",
       "\n",
       "                                        topic_attent  \\\n",
       "0  [1727, 5310, 3402, 916, 1506, 26329, 7293, 180...   \n",
       "1  [42595, 3, 8520, 597, 6485, 6212, 25664, 148, ...   \n",
       "\n",
       "                                      topic_interest                   topic  \n",
       "0  {2794: 1.1527717, 9701: 0.94830835, 9533: 0.85...  [456, 112, 9566, 5310]  \n",
       "1  {1470: 1.4682752, 235: 1.4412646, 4692: 1.3516...               [2, 3095]  "
      ]
     },
     "execution_count": 23,
     "metadata": {},
     "output_type": "execute_result"
    }
   ],
   "source": [
    "# 合并 author_id，question_id\n",
    "invite = pd.concat([invite_info, invite_info_evaluate])\n",
    "invite_id = invite[['author_id', 'question_id']]\n",
    "invite_id['author_question_id'] = invite_id['author_id'] + invite_id['question_id']\n",
    "invite_id.drop_duplicates(subset='author_question_id',inplace=True)\n",
    "invite_id_qm = invite_id.merge(member_info[['author_id', 'topic_attent', 'topic_interest']], 'left', 'author_id').merge(question_info[['question_id', 'topic']], 'left', 'question_id')\n",
    "invite_id_qm.head(2)"
   ]
  },
  {
   "cell_type": "markdown",
   "metadata": {},
   "source": [
    "#### 注：这里为了加快运算，所以用了多进程 multiprocessing，windows + multiprocessing + jupyter可能有bug，建议linux上跑。"
   ]
  },
  {
   "cell_type": "code",
   "execution_count": 24,
   "metadata": {},
   "outputs": [],
   "source": [
    "# 分割 df，方便多进程跑\n",
    "def split_df(df, n):\n",
    "    chunk_size = int(np.ceil(len(df) / n))\n",
    "    return [df[i*chunk_size:(i+1)*chunk_size] for i in range(n)]"
   ]
  },
  {
   "cell_type": "code",
   "execution_count": 25,
   "metadata": {},
   "outputs": [],
   "source": [
    "def gc_mp(pool, ret, chunk_list):\n",
    "    del pool\n",
    "    for r in ret:\n",
    "        del r\n",
    "    del ret\n",
    "    for cl in chunk_list:\n",
    "        del cl\n",
    "    del chunk_list\n",
    "    gc.collect()"
   ]
  },
  {
   "cell_type": "code",
   "execution_count": 26,
   "metadata": {},
   "outputs": [],
   "source": [
    "# 用户关注topic和问题 topic的交集\n",
    "def process(df):\n",
    "    return df.apply(lambda row: list(set(row['topic_attent']) & set(row['topic'])),axis=1)\n",
    "\n",
    "pool = mp.Pool()\n",
    "chunk_list = split_df(invite_id_qm, 100)\n",
    "ret = pool.map(process, chunk_list)\n",
    "invite_id_qm['topic_attent_intersection'] = pd.concat(ret)\n",
    "gc_mp(pool, ret, chunk_list)"
   ]
  },
  {
   "cell_type": "code",
   "execution_count": 27,
   "metadata": {},
   "outputs": [],
   "source": [
    "# 用户感兴趣topic和问题 topic的交集\n",
    "def process(df):\n",
    "    return df.apply(lambda row: list(set(row['topic_interest'].keys()) & set(row['topic'])),axis=1)\n",
    "\n",
    "pool = mp.Pool()\n",
    "chunk_list = split_df(invite_id_qm, 100)\n",
    "ret = pool.map(process, chunk_list)\n",
    "invite_id_qm['topic_interest_intersection'] = pd.concat(ret)\n",
    "gc_mp(pool, ret, chunk_list)"
   ]
  },
  {
   "cell_type": "code",
   "execution_count": 28,
   "metadata": {},
   "outputs": [],
   "source": [
    "# 用户感兴趣topic和问题 topic的交集的兴趣值\n",
    "def process(df):\n",
    "    return df.apply(lambda row: [row['topic_interest'][t] for t in row['topic_interest_intersection']],axis=1)\n",
    "\n",
    "pool = mp.Pool()\n",
    "chunk_list = split_df(invite_id_qm, 100)\n",
    "ret = pool.map(process, chunk_list)\n",
    "invite_id_qm['topic_interest_intersection_values'] = pd.concat(ret)\n",
    "gc_mp(pool, ret, chunk_list)"
   ]
  },
  {
   "cell_type": "code",
   "execution_count": 29,
   "metadata": {},
   "outputs": [],
   "source": [
    "# 交集topic计数\n",
    "invite_id_qm['num_topic_attent_intersection'] = invite_id_qm['topic_attent_intersection'].apply(len)\n",
    "invite_id_qm['num_topic_interest_intersection'] = invite_id_qm['topic_interest_intersection'].apply(len)"
   ]
  },
  {
   "cell_type": "code",
   "execution_count": 30,
   "metadata": {},
   "outputs": [],
   "source": [
    "# 交集topic兴趣值统计\n",
    "invite_id_qm['topic_interest_intersection_values'] = invite_id_qm['topic_interest_intersection_values'].apply(lambda x: [0] if len(x) == 0 else x)\n",
    "invite_id_qm['min_topic_interest_intersection_values'] = invite_id_qm['topic_interest_intersection_values'].apply(np.min)\n",
    "invite_id_qm['max_topic_interest_intersection_values'] = invite_id_qm['topic_interest_intersection_values'].apply(np.max)\n",
    "invite_id_qm['mean_topic_interest_intersection_values'] = invite_id_qm['topic_interest_intersection_values'].apply(np.mean)\n",
    "invite_id_qm['std_topic_interest_intersection_values'] = invite_id_qm['topic_interest_intersection_values'].apply(np.std)"
   ]
  },
  {
   "cell_type": "code",
   "execution_count": 31,
   "metadata": {},
   "outputs": [
    {
     "data": {
      "text/html": [
       "<div>\n",
       "<style scoped>\n",
       "    .dataframe tbody tr th:only-of-type {\n",
       "        vertical-align: middle;\n",
       "    }\n",
       "\n",
       "    .dataframe tbody tr th {\n",
       "        vertical-align: top;\n",
       "    }\n",
       "\n",
       "    .dataframe thead th {\n",
       "        text-align: right;\n",
       "    }\n",
       "</style>\n",
       "<table border=\"1\" class=\"dataframe\">\n",
       "  <thead>\n",
       "    <tr style=\"text-align: right;\">\n",
       "      <th></th>\n",
       "      <th>author_question_id</th>\n",
       "      <th>num_topic_attent_intersection</th>\n",
       "      <th>num_topic_interest_intersection</th>\n",
       "      <th>min_topic_interest_intersection_values</th>\n",
       "      <th>max_topic_interest_intersection_values</th>\n",
       "      <th>mean_topic_interest_intersection_values</th>\n",
       "      <th>std_topic_interest_intersection_values</th>\n",
       "    </tr>\n",
       "  </thead>\n",
       "  <tbody>\n",
       "    <tr>\n",
       "      <td>0</td>\n",
       "      <td>M401693808Q2166419046</td>\n",
       "      <td>1</td>\n",
       "      <td>0</td>\n",
       "      <td>0.0</td>\n",
       "      <td>0.0</td>\n",
       "      <td>0.0</td>\n",
       "      <td>0.0</td>\n",
       "    </tr>\n",
       "    <tr>\n",
       "      <td>1</td>\n",
       "      <td>M3392373099Q1550017551</td>\n",
       "      <td>0</td>\n",
       "      <td>0</td>\n",
       "      <td>0.0</td>\n",
       "      <td>0.0</td>\n",
       "      <td>0.0</td>\n",
       "      <td>0.0</td>\n",
       "    </tr>\n",
       "    <tr>\n",
       "      <td>2</td>\n",
       "      <td>M2317670257Q604029601</td>\n",
       "      <td>0</td>\n",
       "      <td>0</td>\n",
       "      <td>0.0</td>\n",
       "      <td>0.0</td>\n",
       "      <td>0.0</td>\n",
       "      <td>0.0</td>\n",
       "    </tr>\n",
       "  </tbody>\n",
       "</table>\n",
       "</div>"
      ],
      "text/plain": [
       "       author_question_id  num_topic_attent_intersection  \\\n",
       "0   M401693808Q2166419046                              1   \n",
       "1  M3392373099Q1550017551                              0   \n",
       "2   M2317670257Q604029601                              0   \n",
       "\n",
       "   num_topic_interest_intersection  min_topic_interest_intersection_values  \\\n",
       "0                                0                                     0.0   \n",
       "1                                0                                     0.0   \n",
       "2                                0                                     0.0   \n",
       "\n",
       "   max_topic_interest_intersection_values  \\\n",
       "0                                     0.0   \n",
       "1                                     0.0   \n",
       "2                                     0.0   \n",
       "\n",
       "   mean_topic_interest_intersection_values  \\\n",
       "0                                      0.0   \n",
       "1                                      0.0   \n",
       "2                                      0.0   \n",
       "\n",
       "   std_topic_interest_intersection_values  \n",
       "0                                     0.0  \n",
       "1                                     0.0  \n",
       "2                                     0.0  "
      ]
     },
     "execution_count": 31,
     "metadata": {},
     "output_type": "execute_result"
    }
   ],
   "source": [
    "feats = ['author_question_id', 'num_topic_attent_intersection', 'num_topic_interest_intersection', 'min_topic_interest_intersection_values', 'max_topic_interest_intersection_values', 'mean_topic_interest_intersection_values', 'std_topic_interest_intersection_values']\n",
    "feats += []\n",
    "member_question_feat = invite_id_qm[feats]\n",
    "member_question_feat.head(3)"
   ]
  },
  {
   "cell_type": "code",
   "execution_count": 32,
   "metadata": {},
   "outputs": [],
   "source": [
    "member_question_feat.to_hdf('./feats/member_question_feat.h5', key='data')"
   ]
  },
  {
   "cell_type": "code",
   "execution_count": 33,
   "metadata": {},
   "outputs": [
    {
     "data": {
      "text/plain": [
       "44"
      ]
     },
     "execution_count": 33,
     "metadata": {},
     "output_type": "execute_result"
    }
   ],
   "source": [
    "del invite_id_qm, member_question_feat\n",
    "gc.collect()"
   ]
  },
  {
   "cell_type": "code",
   "execution_count": 34,
   "metadata": {},
   "outputs": [
    {
     "name": "stdout",
     "output_type": "stream",
     "text": [
      "Used time: 1293\n"
     ]
    }
   ],
   "source": [
    "toc = time.time()\n",
    "print('Used time: %d' % int(toc-tic))"
   ]
  }
 ],
 "metadata": {
  "kernelspec": {
   "display_name": "Python 3",
   "language": "python",
   "name": "python3"
  },
  "language_info": {
   "codemirror_mode": {
    "name": "ipython",
    "version": 3
   },
   "file_extension": ".py",
   "mimetype": "text/x-python",
   "name": "python",
   "nbconvert_exporter": "python",
   "pygments_lexer": "ipython3",
   "version": "3.6.5"
  }
 },
 "nbformat": 4,
 "nbformat_minor": 2
}
