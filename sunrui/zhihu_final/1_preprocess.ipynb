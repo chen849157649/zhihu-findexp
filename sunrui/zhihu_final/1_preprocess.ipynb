{
 "cells": [
  {
   "cell_type": "code",
   "execution_count": 2,
   "metadata": {},
   "outputs": [],
   "source": [
    "import pandas as pd\n",
    "import numpy as np\n",
    "import pickle\n",
    "import gc\n",
    "from tqdm import tqdm_notebook\n",
    "import os\n",
    "import time"
   ]
  },
  {
   "cell_type": "code",
   "execution_count": 3,
   "metadata": {},
   "outputs": [],
   "source": [
    "tic = time.time()"
   ]
  },
  {
   "cell_type": "code",
   "execution_count": 4,
   "metadata": {},
   "outputs": [],
   "source": [
    "# 减少内存占用\n",
    "def reduce_mem_usage(df):\n",
    "    \"\"\" iterate through all the columns of a dataframe and modify the data type\n",
    "        to reduce memory usage.        \n",
    "    \"\"\"\n",
    "    start_mem = df.memory_usage().sum() / 1024**2\n",
    "    print('Memory usage of dataframe is {:.2f} MB'.format(start_mem))\n",
    "    \n",
    "    for col in df.columns:\n",
    "        col_type = df[col].dtype\n",
    "        \n",
    "        if col_type != object:\n",
    "            c_min = df[col].min()\n",
    "            c_max = df[col].max()\n",
    "            if str(col_type)[:3] == 'int':\n",
    "                if c_min > np.iinfo(np.int8).min and c_max < np.iinfo(np.int8).max:\n",
    "                    df[col] = df[col].astype(np.int8)\n",
    "                elif c_min > np.iinfo(np.int16).min and c_max < np.iinfo(np.int16).max:\n",
    "                    df[col] = df[col].astype(np.int16)\n",
    "                elif c_min > np.iinfo(np.int32).min and c_max < np.iinfo(np.int32).max:\n",
    "                    df[col] = df[col].astype(np.int32)\n",
    "                elif c_min > np.iinfo(np.int64).min and c_max < np.iinfo(np.int64).max:\n",
    "                    df[col] = df[col].astype(np.int64)  \n",
    "\n",
    "    end_mem = df.memory_usage().sum() / 1024**2\n",
    "    print('Memory usage after optimization is: {:.2f} MB'.format(end_mem))\n",
    "    print('Decreased by {:.1f}%'.format(100 * (start_mem - end_mem) / start_mem))\n",
    "    \n",
    "    return df"
   ]
  },
  {
   "cell_type": "code",
   "execution_count": 5,
   "metadata": {},
   "outputs": [],
   "source": [
    "# 解析列表， 重编码id\n",
    "def parse_str(d):  # 给emb用的\n",
    "    return np.array(list(map(float, d.split())))\n",
    "\n",
    "def parse_list_1(d):\n",
    "    if d == '-1':\n",
    "        return [0]\n",
    "    return list(map(lambda x: int(x[1:]), str(d).split(',')))\n",
    "\n",
    "def parse_list_2(d): # single word用\n",
    "    if d == '-1':\n",
    "        return [0]\n",
    "    return list(map(lambda x: int(x[2:]), str(d).split(',')))\n",
    "\n",
    "def parse_map(d):\n",
    "    if d == '-1':\n",
    "        return {}\n",
    "    return dict([int(z.split(':')[0][1:]), float(z.split(':')[1])] for z in d.split(','))"
   ]
  },
  {
   "cell_type": "code",
   "execution_count": 6,
   "metadata": {},
   "outputs": [],
   "source": [
    "PATH = '../data_set_0926'\n",
    "SAVE_PATH = '../pkl'\n",
    "if not os.path.exists(SAVE_PATH):\n",
    "    print('create dir: %s' % SAVE_PATH)\n",
    "    os.mkdir(SAVE_PATH)"
   ]
  },
  {
   "cell_type": "markdown",
   "metadata": {},
   "source": [
    "### single word"
   ]
  },
  {
   "cell_type": "code",
   "execution_count": 7,
   "metadata": {},
   "outputs": [
    {
     "data": {
      "text/html": [
       "<div>\n",
       "<style scoped>\n",
       "    .dataframe tbody tr th:only-of-type {\n",
       "        vertical-align: middle;\n",
       "    }\n",
       "\n",
       "    .dataframe tbody tr th {\n",
       "        vertical-align: top;\n",
       "    }\n",
       "\n",
       "    .dataframe thead th {\n",
       "        text-align: right;\n",
       "    }\n",
       "</style>\n",
       "<table border=\"1\" class=\"dataframe\">\n",
       "  <thead>\n",
       "    <tr style=\"text-align: right;\">\n",
       "      <th></th>\n",
       "      <th>id</th>\n",
       "      <th>embed</th>\n",
       "    </tr>\n",
       "  </thead>\n",
       "  <tbody>\n",
       "    <tr>\n",
       "      <td>0</td>\n",
       "      <td>SW1</td>\n",
       "      <td>-0.985937 0.11307016 0.012898494 -0.6822068 -0...</td>\n",
       "    </tr>\n",
       "    <tr>\n",
       "      <td>1</td>\n",
       "      <td>SW2</td>\n",
       "      <td>-0.3367663 0.039051324 0.8155926 0.8351733 -0....</td>\n",
       "    </tr>\n",
       "    <tr>\n",
       "      <td>2</td>\n",
       "      <td>SW3</td>\n",
       "      <td>0.3074205 -1.0977745 0.7528213 0.6299011 0.197...</td>\n",
       "    </tr>\n",
       "    <tr>\n",
       "      <td>3</td>\n",
       "      <td>SW4</td>\n",
       "      <td>0.61494493 0.5444025 2.0673835 3.2731245 0.779...</td>\n",
       "    </tr>\n",
       "    <tr>\n",
       "      <td>4</td>\n",
       "      <td>SW5</td>\n",
       "      <td>-1.0922098 -2.088952 -1.9467407 -0.095274135 0...</td>\n",
       "    </tr>\n",
       "  </tbody>\n",
       "</table>\n",
       "</div>"
      ],
      "text/plain": [
       "    id                                              embed\n",
       "0  SW1  -0.985937 0.11307016 0.012898494 -0.6822068 -0...\n",
       "1  SW2  -0.3367663 0.039051324 0.8155926 0.8351733 -0....\n",
       "2  SW3  0.3074205 -1.0977745 0.7528213 0.6299011 0.197...\n",
       "3  SW4  0.61494493 0.5444025 2.0673835 3.2731245 0.779...\n",
       "4  SW5  -1.0922098 -2.088952 -1.9467407 -0.095274135 0..."
      ]
     },
     "execution_count": 7,
     "metadata": {},
     "output_type": "execute_result"
    }
   ],
   "source": [
    "single_word = pd.read_csv(os.path.join(PATH, 'single_word_vectors_64d.txt'), \n",
    "                          names=['id', 'embed'], sep='\\t')\n",
    "single_word.head()"
   ]
  },
  {
   "cell_type": "code",
   "execution_count": 8,
   "metadata": {},
   "outputs": [
    {
     "data": {
      "text/html": [
       "<div>\n",
       "<style scoped>\n",
       "    .dataframe tbody tr th:only-of-type {\n",
       "        vertical-align: middle;\n",
       "    }\n",
       "\n",
       "    .dataframe tbody tr th {\n",
       "        vertical-align: top;\n",
       "    }\n",
       "\n",
       "    .dataframe thead th {\n",
       "        text-align: right;\n",
       "    }\n",
       "</style>\n",
       "<table border=\"1\" class=\"dataframe\">\n",
       "  <thead>\n",
       "    <tr style=\"text-align: right;\">\n",
       "      <th></th>\n",
       "      <th>id</th>\n",
       "      <th>embed</th>\n",
       "    </tr>\n",
       "  </thead>\n",
       "  <tbody>\n",
       "    <tr>\n",
       "      <td>0</td>\n",
       "      <td>1</td>\n",
       "      <td>[-0.985937, 0.11307016, 0.012898494, -0.682206...</td>\n",
       "    </tr>\n",
       "    <tr>\n",
       "      <td>1</td>\n",
       "      <td>2</td>\n",
       "      <td>[-0.3367663, 0.039051324, 0.8155926, 0.8351733...</td>\n",
       "    </tr>\n",
       "    <tr>\n",
       "      <td>2</td>\n",
       "      <td>3</td>\n",
       "      <td>[0.3074205, -1.0977745, 0.7528213, 0.6299011, ...</td>\n",
       "    </tr>\n",
       "    <tr>\n",
       "      <td>3</td>\n",
       "      <td>4</td>\n",
       "      <td>[0.61494493, 0.5444025, 2.0673835, 3.2731245, ...</td>\n",
       "    </tr>\n",
       "    <tr>\n",
       "      <td>4</td>\n",
       "      <td>5</td>\n",
       "      <td>[-1.0922098, -2.088952, -1.9467407, -0.0952741...</td>\n",
       "    </tr>\n",
       "  </tbody>\n",
       "</table>\n",
       "</div>"
      ],
      "text/plain": [
       "   id                                              embed\n",
       "0   1  [-0.985937, 0.11307016, 0.012898494, -0.682206...\n",
       "1   2  [-0.3367663, 0.039051324, 0.8155926, 0.8351733...\n",
       "2   3  [0.3074205, -1.0977745, 0.7528213, 0.6299011, ...\n",
       "3   4  [0.61494493, 0.5444025, 2.0673835, 3.2731245, ...\n",
       "4   5  [-1.0922098, -2.088952, -1.9467407, -0.0952741..."
      ]
     },
     "execution_count": 8,
     "metadata": {},
     "output_type": "execute_result"
    }
   ],
   "source": [
    "single_word['embed'] = single_word['embed'].apply(parse_str)\n",
    "single_word['id'] = single_word['id'].apply(lambda x: int(x[2:]))\n",
    "single_word.head()"
   ]
  },
  {
   "cell_type": "code",
   "execution_count": 9,
   "metadata": {},
   "outputs": [
    {
     "data": {
      "text/plain": [
       "0"
      ]
     },
     "execution_count": 9,
     "metadata": {},
     "output_type": "execute_result"
    }
   ],
   "source": [
    "with open('../pkl/single_word.pkl', 'wb') as file:\n",
    "    pickle.dump(single_word, file)\n",
    "\n",
    "del single_word\n",
    "gc.collect()"
   ]
  },
  {
   "cell_type": "markdown",
   "metadata": {},
   "source": [
    "### word"
   ]
  },
  {
   "cell_type": "code",
   "execution_count": 10,
   "metadata": {},
   "outputs": [
    {
     "data": {
      "text/html": [
       "<div>\n",
       "<style scoped>\n",
       "    .dataframe tbody tr th:only-of-type {\n",
       "        vertical-align: middle;\n",
       "    }\n",
       "\n",
       "    .dataframe tbody tr th {\n",
       "        vertical-align: top;\n",
       "    }\n",
       "\n",
       "    .dataframe thead th {\n",
       "        text-align: right;\n",
       "    }\n",
       "</style>\n",
       "<table border=\"1\" class=\"dataframe\">\n",
       "  <thead>\n",
       "    <tr style=\"text-align: right;\">\n",
       "      <th></th>\n",
       "      <th>id</th>\n",
       "      <th>embed</th>\n",
       "    </tr>\n",
       "  </thead>\n",
       "  <tbody>\n",
       "    <tr>\n",
       "      <td>0</td>\n",
       "      <td>W1</td>\n",
       "      <td>0.12561196 -0.57268924 -0.14478925 -0.05249426...</td>\n",
       "    </tr>\n",
       "    <tr>\n",
       "      <td>1</td>\n",
       "      <td>W2</td>\n",
       "      <td>3.224765 2.2482696 -0.511986 -0.5329892 -0.943...</td>\n",
       "    </tr>\n",
       "    <tr>\n",
       "      <td>2</td>\n",
       "      <td>W3</td>\n",
       "      <td>-0.985937 0.11307016 0.012898494 -0.6822068 -0...</td>\n",
       "    </tr>\n",
       "    <tr>\n",
       "      <td>3</td>\n",
       "      <td>W4</td>\n",
       "      <td>-0.3367663 0.039051324 0.8155926 0.8351733 -0....</td>\n",
       "    </tr>\n",
       "    <tr>\n",
       "      <td>4</td>\n",
       "      <td>W5</td>\n",
       "      <td>0.3074205 -1.0977745 0.7528213 0.6299011 0.197...</td>\n",
       "    </tr>\n",
       "  </tbody>\n",
       "</table>\n",
       "</div>"
      ],
      "text/plain": [
       "   id                                              embed\n",
       "0  W1  0.12561196 -0.57268924 -0.14478925 -0.05249426...\n",
       "1  W2  3.224765 2.2482696 -0.511986 -0.5329892 -0.943...\n",
       "2  W3  -0.985937 0.11307016 0.012898494 -0.6822068 -0...\n",
       "3  W4  -0.3367663 0.039051324 0.8155926 0.8351733 -0....\n",
       "4  W5  0.3074205 -1.0977745 0.7528213 0.6299011 0.197..."
      ]
     },
     "execution_count": 10,
     "metadata": {},
     "output_type": "execute_result"
    }
   ],
   "source": [
    "word = pd.read_csv(os.path.join(PATH, 'word_vectors_64d.txt'), \n",
    "                          names=['id', 'embed'], sep='\\t')\n",
    "word.head()"
   ]
  },
  {
   "cell_type": "code",
   "execution_count": 11,
   "metadata": {},
   "outputs": [
    {
     "data": {
      "text/html": [
       "<div>\n",
       "<style scoped>\n",
       "    .dataframe tbody tr th:only-of-type {\n",
       "        vertical-align: middle;\n",
       "    }\n",
       "\n",
       "    .dataframe tbody tr th {\n",
       "        vertical-align: top;\n",
       "    }\n",
       "\n",
       "    .dataframe thead th {\n",
       "        text-align: right;\n",
       "    }\n",
       "</style>\n",
       "<table border=\"1\" class=\"dataframe\">\n",
       "  <thead>\n",
       "    <tr style=\"text-align: right;\">\n",
       "      <th></th>\n",
       "      <th>id</th>\n",
       "      <th>embed</th>\n",
       "    </tr>\n",
       "  </thead>\n",
       "  <tbody>\n",
       "    <tr>\n",
       "      <td>0</td>\n",
       "      <td>1</td>\n",
       "      <td>[0.12561196, -0.57268924, -0.14478925, -0.0524...</td>\n",
       "    </tr>\n",
       "    <tr>\n",
       "      <td>1</td>\n",
       "      <td>2</td>\n",
       "      <td>[3.224765, 2.2482696, -0.511986, -0.5329892, -...</td>\n",
       "    </tr>\n",
       "    <tr>\n",
       "      <td>2</td>\n",
       "      <td>3</td>\n",
       "      <td>[-0.985937, 0.11307016, 0.012898494, -0.682206...</td>\n",
       "    </tr>\n",
       "    <tr>\n",
       "      <td>3</td>\n",
       "      <td>4</td>\n",
       "      <td>[-0.3367663, 0.039051324, 0.8155926, 0.8351733...</td>\n",
       "    </tr>\n",
       "    <tr>\n",
       "      <td>4</td>\n",
       "      <td>5</td>\n",
       "      <td>[0.3074205, -1.0977745, 0.7528213, 0.6299011, ...</td>\n",
       "    </tr>\n",
       "  </tbody>\n",
       "</table>\n",
       "</div>"
      ],
      "text/plain": [
       "   id                                              embed\n",
       "0   1  [0.12561196, -0.57268924, -0.14478925, -0.0524...\n",
       "1   2  [3.224765, 2.2482696, -0.511986, -0.5329892, -...\n",
       "2   3  [-0.985937, 0.11307016, 0.012898494, -0.682206...\n",
       "3   4  [-0.3367663, 0.039051324, 0.8155926, 0.8351733...\n",
       "4   5  [0.3074205, -1.0977745, 0.7528213, 0.6299011, ..."
      ]
     },
     "execution_count": 11,
     "metadata": {},
     "output_type": "execute_result"
    }
   ],
   "source": [
    "word['embed'] = word['embed'].apply(parse_str)\n",
    "word['id'] = word['id'].apply(lambda x: int(x[1:]))\n",
    "word.head()"
   ]
  },
  {
   "cell_type": "code",
   "execution_count": 12,
   "metadata": {},
   "outputs": [
    {
     "data": {
      "text/plain": [
       "0"
      ]
     },
     "execution_count": 12,
     "metadata": {},
     "output_type": "execute_result"
    }
   ],
   "source": [
    "with open('../pkl/word.pkl', 'wb') as file:\n",
    "    pickle.dump(word, file)\n",
    "    \n",
    "del word\n",
    "gc.collect()"
   ]
  },
  {
   "cell_type": "markdown",
   "metadata": {},
   "source": [
    "### topic"
   ]
  },
  {
   "cell_type": "code",
   "execution_count": 13,
   "metadata": {},
   "outputs": [
    {
     "data": {
      "text/html": [
       "<div>\n",
       "<style scoped>\n",
       "    .dataframe tbody tr th:only-of-type {\n",
       "        vertical-align: middle;\n",
       "    }\n",
       "\n",
       "    .dataframe tbody tr th {\n",
       "        vertical-align: top;\n",
       "    }\n",
       "\n",
       "    .dataframe thead th {\n",
       "        text-align: right;\n",
       "    }\n",
       "</style>\n",
       "<table border=\"1\" class=\"dataframe\">\n",
       "  <thead>\n",
       "    <tr style=\"text-align: right;\">\n",
       "      <th></th>\n",
       "      <th>id</th>\n",
       "      <th>embed</th>\n",
       "    </tr>\n",
       "  </thead>\n",
       "  <tbody>\n",
       "    <tr>\n",
       "      <td>0</td>\n",
       "      <td>T1</td>\n",
       "      <td>0.16508673 -0.0037432343 -0.058245048 -0.00134...</td>\n",
       "    </tr>\n",
       "    <tr>\n",
       "      <td>1</td>\n",
       "      <td>T2</td>\n",
       "      <td>1.608256 -1.0515573 -1.1897708 1.1820835 -0.80...</td>\n",
       "    </tr>\n",
       "    <tr>\n",
       "      <td>2</td>\n",
       "      <td>T3</td>\n",
       "      <td>3.3307428 -0.43252096 -2.1518784 -1.4390031 2....</td>\n",
       "    </tr>\n",
       "    <tr>\n",
       "      <td>3</td>\n",
       "      <td>T4</td>\n",
       "      <td>2.4698818 -0.12998039 -0.4648351 0.8796743 -0....</td>\n",
       "    </tr>\n",
       "    <tr>\n",
       "      <td>4</td>\n",
       "      <td>T5</td>\n",
       "      <td>1.562477 -1.3560516 -0.3271215 -0.063419074 -0...</td>\n",
       "    </tr>\n",
       "  </tbody>\n",
       "</table>\n",
       "</div>"
      ],
      "text/plain": [
       "   id                                              embed\n",
       "0  T1  0.16508673 -0.0037432343 -0.058245048 -0.00134...\n",
       "1  T2  1.608256 -1.0515573 -1.1897708 1.1820835 -0.80...\n",
       "2  T3  3.3307428 -0.43252096 -2.1518784 -1.4390031 2....\n",
       "3  T4  2.4698818 -0.12998039 -0.4648351 0.8796743 -0....\n",
       "4  T5  1.562477 -1.3560516 -0.3271215 -0.063419074 -0..."
      ]
     },
     "execution_count": 13,
     "metadata": {},
     "output_type": "execute_result"
    }
   ],
   "source": [
    "topic = pd.read_csv(os.path.join(PATH, 'topic_vectors_64d.txt'), \n",
    "                          names=['id', 'embed'], sep='\\t')\n",
    "topic.head()"
   ]
  },
  {
   "cell_type": "code",
   "execution_count": 14,
   "metadata": {},
   "outputs": [
    {
     "data": {
      "text/html": [
       "<div>\n",
       "<style scoped>\n",
       "    .dataframe tbody tr th:only-of-type {\n",
       "        vertical-align: middle;\n",
       "    }\n",
       "\n",
       "    .dataframe tbody tr th {\n",
       "        vertical-align: top;\n",
       "    }\n",
       "\n",
       "    .dataframe thead th {\n",
       "        text-align: right;\n",
       "    }\n",
       "</style>\n",
       "<table border=\"1\" class=\"dataframe\">\n",
       "  <thead>\n",
       "    <tr style=\"text-align: right;\">\n",
       "      <th></th>\n",
       "      <th>id</th>\n",
       "      <th>embed</th>\n",
       "    </tr>\n",
       "  </thead>\n",
       "  <tbody>\n",
       "    <tr>\n",
       "      <td>0</td>\n",
       "      <td>1</td>\n",
       "      <td>[0.16508673, -0.0037432343, -0.058245048, -0.0...</td>\n",
       "    </tr>\n",
       "    <tr>\n",
       "      <td>1</td>\n",
       "      <td>2</td>\n",
       "      <td>[1.608256, -1.0515573, -1.1897708, 1.1820835, ...</td>\n",
       "    </tr>\n",
       "    <tr>\n",
       "      <td>2</td>\n",
       "      <td>3</td>\n",
       "      <td>[3.3307428, -0.43252096, -2.1518784, -1.439003...</td>\n",
       "    </tr>\n",
       "    <tr>\n",
       "      <td>3</td>\n",
       "      <td>4</td>\n",
       "      <td>[2.4698818, -0.12998039, -0.4648351, 0.8796743...</td>\n",
       "    </tr>\n",
       "    <tr>\n",
       "      <td>4</td>\n",
       "      <td>5</td>\n",
       "      <td>[1.562477, -1.3560516, -0.3271215, -0.06341907...</td>\n",
       "    </tr>\n",
       "  </tbody>\n",
       "</table>\n",
       "</div>"
      ],
      "text/plain": [
       "   id                                              embed\n",
       "0   1  [0.16508673, -0.0037432343, -0.058245048, -0.0...\n",
       "1   2  [1.608256, -1.0515573, -1.1897708, 1.1820835, ...\n",
       "2   3  [3.3307428, -0.43252096, -2.1518784, -1.439003...\n",
       "3   4  [2.4698818, -0.12998039, -0.4648351, 0.8796743...\n",
       "4   5  [1.562477, -1.3560516, -0.3271215, -0.06341907..."
      ]
     },
     "execution_count": 14,
     "metadata": {},
     "output_type": "execute_result"
    }
   ],
   "source": [
    "topic['embed'] = topic['embed'].apply(parse_str)\n",
    "topic['id'] = topic['id'].apply(lambda x: int(x[1:]))\n",
    "topic.head()"
   ]
  },
  {
   "cell_type": "code",
   "execution_count": 15,
   "metadata": {},
   "outputs": [
    {
     "data": {
      "text/plain": [
       "0"
      ]
     },
     "execution_count": 15,
     "metadata": {},
     "output_type": "execute_result"
    }
   ],
   "source": [
    "with open('../pkl/topic.pkl', 'wb') as file:\n",
    "    pickle.dump(topic, file)\n",
    "    \n",
    "del topic\n",
    "gc.collect()"
   ]
  },
  {
   "cell_type": "markdown",
   "metadata": {},
   "source": [
    "### invite"
   ]
  },
  {
   "cell_type": "code",
   "execution_count": 16,
   "metadata": {},
   "outputs": [
    {
     "data": {
      "text/html": [
       "<div>\n",
       "<style scoped>\n",
       "    .dataframe tbody tr th:only-of-type {\n",
       "        vertical-align: middle;\n",
       "    }\n",
       "\n",
       "    .dataframe tbody tr th {\n",
       "        vertical-align: top;\n",
       "    }\n",
       "\n",
       "    .dataframe thead th {\n",
       "        text-align: right;\n",
       "    }\n",
       "</style>\n",
       "<table border=\"1\" class=\"dataframe\">\n",
       "  <thead>\n",
       "    <tr style=\"text-align: right;\">\n",
       "      <th></th>\n",
       "      <th>question_id</th>\n",
       "      <th>author_id</th>\n",
       "      <th>invite_time</th>\n",
       "      <th>label</th>\n",
       "    </tr>\n",
       "  </thead>\n",
       "  <tbody>\n",
       "    <tr>\n",
       "      <td>0</td>\n",
       "      <td>Q2166419046</td>\n",
       "      <td>M401693808</td>\n",
       "      <td>D3865-H22</td>\n",
       "      <td>0</td>\n",
       "    </tr>\n",
       "    <tr>\n",
       "      <td>1</td>\n",
       "      <td>Q1550017551</td>\n",
       "      <td>M3392373099</td>\n",
       "      <td>D3844-H11</td>\n",
       "      <td>0</td>\n",
       "    </tr>\n",
       "    <tr>\n",
       "      <td>2</td>\n",
       "      <td>Q604029601</td>\n",
       "      <td>M2317670257</td>\n",
       "      <td>D3862-H15</td>\n",
       "      <td>0</td>\n",
       "    </tr>\n",
       "    <tr>\n",
       "      <td>3</td>\n",
       "      <td>Q2350061229</td>\n",
       "      <td>M1618461867</td>\n",
       "      <td>D3849-H11</td>\n",
       "      <td>0</td>\n",
       "    </tr>\n",
       "    <tr>\n",
       "      <td>4</td>\n",
       "      <td>Q2443223942</td>\n",
       "      <td>M3544409350</td>\n",
       "      <td>D3867-H4</td>\n",
       "      <td>0</td>\n",
       "    </tr>\n",
       "  </tbody>\n",
       "</table>\n",
       "</div>"
      ],
      "text/plain": [
       "   question_id    author_id invite_time  label\n",
       "0  Q2166419046   M401693808   D3865-H22      0\n",
       "1  Q1550017551  M3392373099   D3844-H11      0\n",
       "2   Q604029601  M2317670257   D3862-H15      0\n",
       "3  Q2350061229  M1618461867   D3849-H11      0\n",
       "4  Q2443223942  M3544409350    D3867-H4      0"
      ]
     },
     "execution_count": 16,
     "metadata": {},
     "output_type": "execute_result"
    }
   ],
   "source": [
    "invite_info = pd.read_csv(os.path.join(PATH, 'invite_info_0926.txt'), \n",
    "                          names=['question_id', 'author_id', 'invite_time', 'label'], sep='\\t')\n",
    "invite_info_evaluate = pd.read_csv(os.path.join(PATH, 'invite_info_evaluate_1_0926.txt'), \n",
    "                          names=['question_id', 'author_id', 'invite_time'], sep='\\t')\n",
    "invite_info.head()"
   ]
  },
  {
   "cell_type": "code",
   "execution_count": 17,
   "metadata": {},
   "outputs": [],
   "source": [
    "invite_info['invite_day'] = invite_info['invite_time'].apply(lambda x: int(x.split('-')[0][1:])).astype(np.int16)\n",
    "invite_info['invite_hour'] = invite_info['invite_time'].apply(lambda x: int(x.split('-')[1][1:])).astype(np.int8)"
   ]
  },
  {
   "cell_type": "code",
   "execution_count": 18,
   "metadata": {},
   "outputs": [],
   "source": [
    "invite_info_evaluate['invite_day'] = invite_info_evaluate['invite_time'].apply(lambda x: int(x.split('-')[0][1:])).astype(np.int16)\n",
    "invite_info_evaluate['invite_hour'] = invite_info_evaluate['invite_time'].apply(lambda x: int(x.split('-')[1][1:])).astype(np.int8)"
   ]
  },
  {
   "cell_type": "code",
   "execution_count": 19,
   "metadata": {},
   "outputs": [
    {
     "name": "stdout",
     "output_type": "stream",
     "text": [
      "Memory usage of dataframe is 316.74 MB\n",
      "Memory usage after optimization is: 253.39 MB\n",
      "Decreased by 20.0%\n"
     ]
    }
   ],
   "source": [
    "invite_info = reduce_mem_usage(invite_info)"
   ]
  },
  {
   "cell_type": "code",
   "execution_count": 20,
   "metadata": {},
   "outputs": [
    {
     "data": {
      "text/plain": [
       "0"
      ]
     },
     "execution_count": 20,
     "metadata": {},
     "output_type": "execute_result"
    }
   ],
   "source": [
    "with open('../pkl/invite_info.pkl', 'wb') as file:\n",
    "    pickle.dump(invite_info, file)\n",
    "    \n",
    "with open('../pkl/invite_info_evaluate.pkl', 'wb') as file:\n",
    "    pickle.dump(invite_info_evaluate, file)\n",
    "    \n",
    "del invite_info, invite_info_evaluate\n",
    "gc.collect()"
   ]
  },
  {
   "cell_type": "markdown",
   "metadata": {},
   "source": [
    "### member"
   ]
  },
  {
   "cell_type": "code",
   "execution_count": 21,
   "metadata": {},
   "outputs": [
    {
     "data": {
      "text/html": [
       "<div>\n",
       "<style scoped>\n",
       "    .dataframe tbody tr th:only-of-type {\n",
       "        vertical-align: middle;\n",
       "    }\n",
       "\n",
       "    .dataframe tbody tr th {\n",
       "        vertical-align: top;\n",
       "    }\n",
       "\n",
       "    .dataframe thead th {\n",
       "        text-align: right;\n",
       "    }\n",
       "</style>\n",
       "<table border=\"1\" class=\"dataframe\">\n",
       "  <thead>\n",
       "    <tr style=\"text-align: right;\">\n",
       "      <th></th>\n",
       "      <th>author_id</th>\n",
       "      <th>gender</th>\n",
       "      <th>keyword</th>\n",
       "      <th>grade</th>\n",
       "      <th>hotness</th>\n",
       "      <th>reg_type</th>\n",
       "      <th>reg_plat</th>\n",
       "      <th>freq</th>\n",
       "      <th>A1</th>\n",
       "      <th>B1</th>\n",
       "      <th>...</th>\n",
       "      <th>D1</th>\n",
       "      <th>E1</th>\n",
       "      <th>A2</th>\n",
       "      <th>B2</th>\n",
       "      <th>C2</th>\n",
       "      <th>D2</th>\n",
       "      <th>E2</th>\n",
       "      <th>score</th>\n",
       "      <th>topic_attent</th>\n",
       "      <th>topic_interest</th>\n",
       "    </tr>\n",
       "  </thead>\n",
       "  <tbody>\n",
       "    <tr>\n",
       "      <td>0</td>\n",
       "      <td>M1934753188</td>\n",
       "      <td>male</td>\n",
       "      <td>-1</td>\n",
       "      <td>0.0</td>\n",
       "      <td>0.0</td>\n",
       "      <td>unknown</td>\n",
       "      <td>unknown</td>\n",
       "      <td>monthly</td>\n",
       "      <td>0</td>\n",
       "      <td>1</td>\n",
       "      <td>...</td>\n",
       "      <td>1</td>\n",
       "      <td>0</td>\n",
       "      <td>MD470265</td>\n",
       "      <td>BR470265</td>\n",
       "      <td>PV929066</td>\n",
       "      <td>CT929066</td>\n",
       "      <td>PF470265</td>\n",
       "      <td>764</td>\n",
       "      <td>T540</td>\n",
       "      <td>T21107:1.7915097,T405:1.6123838,T4436:1.518003...</td>\n",
       "    </tr>\n",
       "    <tr>\n",
       "      <td>1</td>\n",
       "      <td>M595924114</td>\n",
       "      <td>male</td>\n",
       "      <td>-1</td>\n",
       "      <td>0.0</td>\n",
       "      <td>0.0</td>\n",
       "      <td>unknown</td>\n",
       "      <td>unknown</td>\n",
       "      <td>daily</td>\n",
       "      <td>0</td>\n",
       "      <td>0</td>\n",
       "      <td>...</td>\n",
       "      <td>1</td>\n",
       "      <td>1</td>\n",
       "      <td>MD195122</td>\n",
       "      <td>BR596936</td>\n",
       "      <td>PV002320</td>\n",
       "      <td>CT840234</td>\n",
       "      <td>PF470265</td>\n",
       "      <td>671</td>\n",
       "      <td>T44126,T15940,T839,T8978,T2934,T1113,T3914,T12...</td>\n",
       "      <td>T18016:2.0650618,T2384:1.2503042,T1142:1.13569...</td>\n",
       "    </tr>\n",
       "    <tr>\n",
       "      <td>2</td>\n",
       "      <td>M1473482940</td>\n",
       "      <td>female</td>\n",
       "      <td>-1</td>\n",
       "      <td>0.0</td>\n",
       "      <td>0.0</td>\n",
       "      <td>unknown</td>\n",
       "      <td>unknown</td>\n",
       "      <td>weekly</td>\n",
       "      <td>0</td>\n",
       "      <td>1</td>\n",
       "      <td>...</td>\n",
       "      <td>1</td>\n",
       "      <td>0</td>\n",
       "      <td>MD116493</td>\n",
       "      <td>BR641329</td>\n",
       "      <td>PV170953</td>\n",
       "      <td>CT470265</td>\n",
       "      <td>PF470265</td>\n",
       "      <td>454</td>\n",
       "      <td>T30874,T2113,T8656,T21,T523,T8,T116,T5727,T68,...</td>\n",
       "      <td>T46:1.330939,T2159:1.1296458,T379:1.1241927,T1...</td>\n",
       "    </tr>\n",
       "    <tr>\n",
       "      <td>3</td>\n",
       "      <td>M578477092</td>\n",
       "      <td>male</td>\n",
       "      <td>-1</td>\n",
       "      <td>0.0</td>\n",
       "      <td>0.0</td>\n",
       "      <td>unknown</td>\n",
       "      <td>unknown</td>\n",
       "      <td>daily</td>\n",
       "      <td>1</td>\n",
       "      <td>1</td>\n",
       "      <td>...</td>\n",
       "      <td>1</td>\n",
       "      <td>0</td>\n",
       "      <td>MD889589</td>\n",
       "      <td>BR803759</td>\n",
       "      <td>PV545833</td>\n",
       "      <td>CT545833</td>\n",
       "      <td>PF470265</td>\n",
       "      <td>588</td>\n",
       "      <td>T946,T7323,T297,T2660,T36067,T53107,T2654,T507...</td>\n",
       "      <td>T15918:1.9479566,T8106:1.8578106,T4787:1.58486...</td>\n",
       "    </tr>\n",
       "    <tr>\n",
       "      <td>4</td>\n",
       "      <td>M1088794709</td>\n",
       "      <td>male</td>\n",
       "      <td>-1</td>\n",
       "      <td>0.0</td>\n",
       "      <td>0.0</td>\n",
       "      <td>unknown</td>\n",
       "      <td>unknown</td>\n",
       "      <td>weekly</td>\n",
       "      <td>0</td>\n",
       "      <td>1</td>\n",
       "      <td>...</td>\n",
       "      <td>0</td>\n",
       "      <td>0</td>\n",
       "      <td>MD825760</td>\n",
       "      <td>BR641329</td>\n",
       "      <td>PV071037</td>\n",
       "      <td>CT470265</td>\n",
       "      <td>PF470265</td>\n",
       "      <td>361</td>\n",
       "      <td>T582,T558,T28776,T5186,T9081,T2419,T2693,T2299...</td>\n",
       "      <td>T65:1.5992582,T867:1.3179373,T93:1.2095009,T31...</td>\n",
       "    </tr>\n",
       "  </tbody>\n",
       "</table>\n",
       "<p>5 rows × 21 columns</p>\n",
       "</div>"
      ],
      "text/plain": [
       "     author_id  gender  keyword  grade  hotness reg_type reg_plat     freq  \\\n",
       "0  M1934753188    male       -1    0.0      0.0  unknown  unknown  monthly   \n",
       "1   M595924114    male       -1    0.0      0.0  unknown  unknown    daily   \n",
       "2  M1473482940  female       -1    0.0      0.0  unknown  unknown   weekly   \n",
       "3   M578477092    male       -1    0.0      0.0  unknown  unknown    daily   \n",
       "4  M1088794709    male       -1    0.0      0.0  unknown  unknown   weekly   \n",
       "\n",
       "   A1  B1  ...  D1  E1        A2        B2        C2        D2        E2  \\\n",
       "0   0   1  ...   1   0  MD470265  BR470265  PV929066  CT929066  PF470265   \n",
       "1   0   0  ...   1   1  MD195122  BR596936  PV002320  CT840234  PF470265   \n",
       "2   0   1  ...   1   0  MD116493  BR641329  PV170953  CT470265  PF470265   \n",
       "3   1   1  ...   1   0  MD889589  BR803759  PV545833  CT545833  PF470265   \n",
       "4   0   1  ...   0   0  MD825760  BR641329  PV071037  CT470265  PF470265   \n",
       "\n",
       "  score                                       topic_attent  \\\n",
       "0   764                                               T540   \n",
       "1   671  T44126,T15940,T839,T8978,T2934,T1113,T3914,T12...   \n",
       "2   454  T30874,T2113,T8656,T21,T523,T8,T116,T5727,T68,...   \n",
       "3   588  T946,T7323,T297,T2660,T36067,T53107,T2654,T507...   \n",
       "4   361  T582,T558,T28776,T5186,T9081,T2419,T2693,T2299...   \n",
       "\n",
       "                                      topic_interest  \n",
       "0  T21107:1.7915097,T405:1.6123838,T4436:1.518003...  \n",
       "1  T18016:2.0650618,T2384:1.2503042,T1142:1.13569...  \n",
       "2  T46:1.330939,T2159:1.1296458,T379:1.1241927,T1...  \n",
       "3  T15918:1.9479566,T8106:1.8578106,T4787:1.58486...  \n",
       "4  T65:1.5992582,T867:1.3179373,T93:1.2095009,T31...  \n",
       "\n",
       "[5 rows x 21 columns]"
      ]
     },
     "execution_count": 21,
     "metadata": {},
     "output_type": "execute_result"
    }
   ],
   "source": [
    "member_info = pd.read_csv(os.path.join(PATH, 'member_info_0926.txt'), \n",
    "                          names=['author_id', 'gender', 'keyword', 'grade', 'hotness', 'reg_type','reg_plat','freq',\n",
    "                                 'A1', 'B1', 'C1', 'D1', 'E1', 'A2', 'B2', 'C2', 'D2', 'E2',\n",
    "                                 'score', 'topic_attent', 'topic_interest'], sep='\\t')\n",
    "member_info.head()"
   ]
  },
  {
   "cell_type": "code",
   "execution_count": 22,
   "metadata": {},
   "outputs": [],
   "source": [
    "member_info['topic_attent'] = member_info['topic_attent'].apply(parse_list_1)\n",
    "member_info['topic_interest'] = member_info['topic_interest'].apply(parse_map)"
   ]
  },
  {
   "cell_type": "code",
   "execution_count": 23,
   "metadata": {},
   "outputs": [
    {
     "name": "stdout",
     "output_type": "stream",
     "text": [
      "Memory usage of dataframe is 309.48 MB\n",
      "Memory usage after optimization is: 221.06 MB\n",
      "Decreased by 28.6%\n"
     ]
    }
   ],
   "source": [
    "member_info = reduce_mem_usage(member_info)"
   ]
  },
  {
   "cell_type": "code",
   "execution_count": 24,
   "metadata": {},
   "outputs": [
    {
     "data": {
      "text/plain": [
       "0"
      ]
     },
     "execution_count": 24,
     "metadata": {},
     "output_type": "execute_result"
    }
   ],
   "source": [
    "with open('../pkl/member_info.pkl', 'wb') as file:\n",
    "    pickle.dump(member_info, file)\n",
    "    \n",
    "del member_info\n",
    "gc.collect()"
   ]
  },
  {
   "cell_type": "markdown",
   "metadata": {},
   "source": [
    "### question"
   ]
  },
  {
   "cell_type": "code",
   "execution_count": 25,
   "metadata": {},
   "outputs": [
    {
     "data": {
      "text/html": [
       "<div>\n",
       "<style scoped>\n",
       "    .dataframe tbody tr th:only-of-type {\n",
       "        vertical-align: middle;\n",
       "    }\n",
       "\n",
       "    .dataframe tbody tr th {\n",
       "        vertical-align: top;\n",
       "    }\n",
       "\n",
       "    .dataframe thead th {\n",
       "        text-align: right;\n",
       "    }\n",
       "</style>\n",
       "<table border=\"1\" class=\"dataframe\">\n",
       "  <thead>\n",
       "    <tr style=\"text-align: right;\">\n",
       "      <th></th>\n",
       "      <th>question_id</th>\n",
       "      <th>question_time</th>\n",
       "      <th>title_sw_series</th>\n",
       "      <th>title_w_series</th>\n",
       "      <th>desc_sw_series</th>\n",
       "      <th>desc_w_series</th>\n",
       "      <th>topic</th>\n",
       "    </tr>\n",
       "  </thead>\n",
       "  <tbody>\n",
       "    <tr>\n",
       "      <td>0</td>\n",
       "      <td>Q2234111670</td>\n",
       "      <td>D1018-H5</td>\n",
       "      <td>SW211,SW204,SW1715,SW69,SW2033,SW138,SW57,SW13...</td>\n",
       "      <td>W22414,W963,W10458</td>\n",
       "      <td>-1</td>\n",
       "      <td>-1</td>\n",
       "      <td>T321,T730,T5784,T4389</td>\n",
       "    </tr>\n",
       "    <tr>\n",
       "      <td>1</td>\n",
       "      <td>Q760329790</td>\n",
       "      <td>D1745-H20</td>\n",
       "      <td>SW69,SW2033,SW138,SW2616,SW2668,SW36,SW2594,SW...</td>\n",
       "      <td>W12677,W16829,W15201,W6419,W101839</td>\n",
       "      <td>SW146,SW982,SW401,SW297,SW17,SW2616,SW2668,SW3...</td>\n",
       "      <td>W1296,W2118,W12677,W16829,W15201,W6419,W101839...</td>\n",
       "      <td>T278,T12673,T4677</td>\n",
       "    </tr>\n",
       "    <tr>\n",
       "      <td>2</td>\n",
       "      <td>Q741313548</td>\n",
       "      <td>D2032-H21</td>\n",
       "      <td>SW153,SW662,SW1218,SW853,SW325,SW1056,SW467,SW...</td>\n",
       "      <td>W700,W2781,W3280,W81215</td>\n",
       "      <td>SW1956,SW3583,SW153,SW34,SW35,SW1016,SW586,SW5...</td>\n",
       "      <td>W732,W24400,W48321,W39608,W20788,W219486,W1183...</td>\n",
       "      <td>T226</td>\n",
       "    </tr>\n",
       "    <tr>\n",
       "      <td>3</td>\n",
       "      <td>Q3481466230</td>\n",
       "      <td>D2185-H15</td>\n",
       "      <td>SW22,SW179,SW57,SW451,SW594,SW118,SW882,SW655,...</td>\n",
       "      <td>W3312,W1823,W1505,W638,W166,W461</td>\n",
       "      <td>SW323,SW37,SW1,SW606,SW1227,SW29,SW22,SW179,SW...</td>\n",
       "      <td>W6642,W4214,W3312,W1505,W2205,W232,W294,W7177,...</td>\n",
       "      <td>T51,T4468</td>\n",
       "    </tr>\n",
       "    <tr>\n",
       "      <td>4</td>\n",
       "      <td>Q3966197028</td>\n",
       "      <td>D2269-H17</td>\n",
       "      <td>SW1622,SW223,SW1218,SW853,SW390,SW220,SW753,SW...</td>\n",
       "      <td>W700,W895,W2253</td>\n",
       "      <td>-1</td>\n",
       "      <td>-1</td>\n",
       "      <td>T54700,T81,T57,T17670,T43574</td>\n",
       "    </tr>\n",
       "  </tbody>\n",
       "</table>\n",
       "</div>"
      ],
      "text/plain": [
       "   question_id question_time  \\\n",
       "0  Q2234111670      D1018-H5   \n",
       "1   Q760329790     D1745-H20   \n",
       "2   Q741313548     D2032-H21   \n",
       "3  Q3481466230     D2185-H15   \n",
       "4  Q3966197028     D2269-H17   \n",
       "\n",
       "                                     title_sw_series  \\\n",
       "0  SW211,SW204,SW1715,SW69,SW2033,SW138,SW57,SW13...   \n",
       "1  SW69,SW2033,SW138,SW2616,SW2668,SW36,SW2594,SW...   \n",
       "2  SW153,SW662,SW1218,SW853,SW325,SW1056,SW467,SW...   \n",
       "3  SW22,SW179,SW57,SW451,SW594,SW118,SW882,SW655,...   \n",
       "4  SW1622,SW223,SW1218,SW853,SW390,SW220,SW753,SW...   \n",
       "\n",
       "                       title_w_series  \\\n",
       "0                  W22414,W963,W10458   \n",
       "1  W12677,W16829,W15201,W6419,W101839   \n",
       "2             W700,W2781,W3280,W81215   \n",
       "3    W3312,W1823,W1505,W638,W166,W461   \n",
       "4                     W700,W895,W2253   \n",
       "\n",
       "                                      desc_sw_series  \\\n",
       "0                                                 -1   \n",
       "1  SW146,SW982,SW401,SW297,SW17,SW2616,SW2668,SW3...   \n",
       "2  SW1956,SW3583,SW153,SW34,SW35,SW1016,SW586,SW5...   \n",
       "3  SW323,SW37,SW1,SW606,SW1227,SW29,SW22,SW179,SW...   \n",
       "4                                                 -1   \n",
       "\n",
       "                                       desc_w_series  \\\n",
       "0                                                 -1   \n",
       "1  W1296,W2118,W12677,W16829,W15201,W6419,W101839...   \n",
       "2  W732,W24400,W48321,W39608,W20788,W219486,W1183...   \n",
       "3  W6642,W4214,W3312,W1505,W2205,W232,W294,W7177,...   \n",
       "4                                                 -1   \n",
       "\n",
       "                          topic  \n",
       "0         T321,T730,T5784,T4389  \n",
       "1             T278,T12673,T4677  \n",
       "2                          T226  \n",
       "3                     T51,T4468  \n",
       "4  T54700,T81,T57,T17670,T43574  "
      ]
     },
     "execution_count": 25,
     "metadata": {},
     "output_type": "execute_result"
    }
   ],
   "source": [
    "question_info = pd.read_csv(os.path.join(PATH, 'question_info_0926.txt'),\n",
    "                          names=['question_id', 'question_time', 'title_sw_series', 'title_w_series', 'desc_sw_series', 'desc_w_series', 'topic'], sep='\\t')\n",
    "question_info.head()"
   ]
  },
  {
   "cell_type": "code",
   "execution_count": 26,
   "metadata": {},
   "outputs": [
    {
     "data": {
      "text/html": [
       "<div>\n",
       "<style scoped>\n",
       "    .dataframe tbody tr th:only-of-type {\n",
       "        vertical-align: middle;\n",
       "    }\n",
       "\n",
       "    .dataframe tbody tr th {\n",
       "        vertical-align: top;\n",
       "    }\n",
       "\n",
       "    .dataframe thead th {\n",
       "        text-align: right;\n",
       "    }\n",
       "</style>\n",
       "<table border=\"1\" class=\"dataframe\">\n",
       "  <thead>\n",
       "    <tr style=\"text-align: right;\">\n",
       "      <th></th>\n",
       "      <th>question_id</th>\n",
       "      <th>question_time</th>\n",
       "      <th>title_sw_series</th>\n",
       "      <th>title_w_series</th>\n",
       "      <th>desc_sw_series</th>\n",
       "      <th>desc_w_series</th>\n",
       "      <th>topic</th>\n",
       "    </tr>\n",
       "  </thead>\n",
       "  <tbody>\n",
       "    <tr>\n",
       "      <td>0</td>\n",
       "      <td>Q2234111670</td>\n",
       "      <td>D1018-H5</td>\n",
       "      <td>[211, 204, 1715, 69, 2033, 138, 57, 138, 8, 28...</td>\n",
       "      <td>[22414, 963, 10458]</td>\n",
       "      <td>[0]</td>\n",
       "      <td>[0]</td>\n",
       "      <td>[321, 730, 5784, 4389]</td>\n",
       "    </tr>\n",
       "    <tr>\n",
       "      <td>1</td>\n",
       "      <td>Q760329790</td>\n",
       "      <td>D1745-H20</td>\n",
       "      <td>[69, 2033, 138, 2616, 2668, 36, 2594, 1165, 20...</td>\n",
       "      <td>[12677, 16829, 15201, 6419, 101839]</td>\n",
       "      <td>[146, 982, 401, 297, 17, 2616, 2668, 36, 2594,...</td>\n",
       "      <td>[1296, 2118, 12677, 16829, 15201, 6419, 101839...</td>\n",
       "      <td>[278, 12673, 4677]</td>\n",
       "    </tr>\n",
       "    <tr>\n",
       "      <td>2</td>\n",
       "      <td>Q741313548</td>\n",
       "      <td>D2032-H21</td>\n",
       "      <td>[153, 662, 1218, 853, 325, 1056, 467, 398, 102...</td>\n",
       "      <td>[700, 2781, 3280, 81215]</td>\n",
       "      <td>[1956, 3583, 153, 34, 35, 1016, 586, 586, 716,...</td>\n",
       "      <td>[732, 24400, 48321, 39608, 20788, 219486, 1183...</td>\n",
       "      <td>[226]</td>\n",
       "    </tr>\n",
       "    <tr>\n",
       "      <td>3</td>\n",
       "      <td>Q3481466230</td>\n",
       "      <td>D2185-H15</td>\n",
       "      <td>[22, 179, 57, 451, 594, 118, 882, 655, 1, 433,...</td>\n",
       "      <td>[3312, 1823, 1505, 638, 166, 461]</td>\n",
       "      <td>[323, 37, 1, 606, 1227, 29, 22, 179, 7, 44, 27...</td>\n",
       "      <td>[6642, 4214, 3312, 1505, 2205, 232, 294, 7177,...</td>\n",
       "      <td>[51, 4468]</td>\n",
       "    </tr>\n",
       "    <tr>\n",
       "      <td>4</td>\n",
       "      <td>Q3966197028</td>\n",
       "      <td>D2269-H17</td>\n",
       "      <td>[1622, 223, 1218, 853, 390, 220, 753, 909, 557...</td>\n",
       "      <td>[700, 895, 2253]</td>\n",
       "      <td>[0]</td>\n",
       "      <td>[0]</td>\n",
       "      <td>[54700, 81, 57, 17670, 43574]</td>\n",
       "    </tr>\n",
       "  </tbody>\n",
       "</table>\n",
       "</div>"
      ],
      "text/plain": [
       "   question_id question_time  \\\n",
       "0  Q2234111670      D1018-H5   \n",
       "1   Q760329790     D1745-H20   \n",
       "2   Q741313548     D2032-H21   \n",
       "3  Q3481466230     D2185-H15   \n",
       "4  Q3966197028     D2269-H17   \n",
       "\n",
       "                                     title_sw_series  \\\n",
       "0  [211, 204, 1715, 69, 2033, 138, 57, 138, 8, 28...   \n",
       "1  [69, 2033, 138, 2616, 2668, 36, 2594, 1165, 20...   \n",
       "2  [153, 662, 1218, 853, 325, 1056, 467, 398, 102...   \n",
       "3  [22, 179, 57, 451, 594, 118, 882, 655, 1, 433,...   \n",
       "4  [1622, 223, 1218, 853, 390, 220, 753, 909, 557...   \n",
       "\n",
       "                        title_w_series  \\\n",
       "0                  [22414, 963, 10458]   \n",
       "1  [12677, 16829, 15201, 6419, 101839]   \n",
       "2             [700, 2781, 3280, 81215]   \n",
       "3    [3312, 1823, 1505, 638, 166, 461]   \n",
       "4                     [700, 895, 2253]   \n",
       "\n",
       "                                      desc_sw_series  \\\n",
       "0                                                [0]   \n",
       "1  [146, 982, 401, 297, 17, 2616, 2668, 36, 2594,...   \n",
       "2  [1956, 3583, 153, 34, 35, 1016, 586, 586, 716,...   \n",
       "3  [323, 37, 1, 606, 1227, 29, 22, 179, 7, 44, 27...   \n",
       "4                                                [0]   \n",
       "\n",
       "                                       desc_w_series  \\\n",
       "0                                                [0]   \n",
       "1  [1296, 2118, 12677, 16829, 15201, 6419, 101839...   \n",
       "2  [732, 24400, 48321, 39608, 20788, 219486, 1183...   \n",
       "3  [6642, 4214, 3312, 1505, 2205, 232, 294, 7177,...   \n",
       "4                                                [0]   \n",
       "\n",
       "                           topic  \n",
       "0         [321, 730, 5784, 4389]  \n",
       "1             [278, 12673, 4677]  \n",
       "2                          [226]  \n",
       "3                     [51, 4468]  \n",
       "4  [54700, 81, 57, 17670, 43574]  "
      ]
     },
     "execution_count": 26,
     "metadata": {},
     "output_type": "execute_result"
    }
   ],
   "source": [
    "question_info['title_sw_series'] = question_info['title_sw_series'].apply(parse_list_2)#.apply(sw_lbl_enc.transform).apply(list)\n",
    "question_info['title_w_series'] = question_info['title_w_series'].apply(parse_list_1)#.apply(w_lbl_enc.transform).apply(list)\n",
    "question_info['desc_sw_series'] = question_info['desc_sw_series'].apply(parse_list_2)#.apply(sw_lbl_enc.transform).apply(list)\n",
    "question_info['desc_w_series'] = question_info['desc_w_series'].apply(parse_list_1)#.apply(w_lbl_enc.transform).apply(list)\n",
    "question_info['topic'] = question_info['topic'].apply(parse_list_1)# .apply(topic_lbl_enc.transform).apply(list)\n",
    "question_info.head()"
   ]
  },
  {
   "cell_type": "code",
   "execution_count": 27,
   "metadata": {},
   "outputs": [
    {
     "data": {
      "text/plain": [
       "0"
      ]
     },
     "execution_count": 27,
     "metadata": {},
     "output_type": "execute_result"
    }
   ],
   "source": [
    "question_info['question_day'] = question_info['question_time'].apply(lambda x: int(x.split('-')[0][1:])).astype(np.int16)\n",
    "question_info['question_hour'] = question_info['question_time'].apply(lambda x: int(x.split('-')[1][1:])).astype(np.int8)\n",
    "del question_info['question_time']\n",
    "gc.collect()"
   ]
  },
  {
   "cell_type": "code",
   "execution_count": 28,
   "metadata": {},
   "outputs": [
    {
     "name": "stdout",
     "output_type": "stream",
     "text": [
      "Memory usage of dataframe is 89.00 MB\n",
      "Memory usage after optimization is: 89.00 MB\n",
      "Decreased by 0.0%\n"
     ]
    }
   ],
   "source": [
    "question_info = reduce_mem_usage(question_info)"
   ]
  },
  {
   "cell_type": "code",
   "execution_count": 29,
   "metadata": {},
   "outputs": [
    {
     "data": {
      "text/plain": [
       "0"
      ]
     },
     "execution_count": 29,
     "metadata": {},
     "output_type": "execute_result"
    }
   ],
   "source": [
    "with open('../pkl/question_info.pkl', 'wb') as file:\n",
    "    pickle.dump(question_info, file)\n",
    "    \n",
    "del question_info\n",
    "gc.collect()"
   ]
  },
  {
   "cell_type": "markdown",
   "metadata": {},
   "source": [
    "### answer"
   ]
  },
  {
   "cell_type": "code",
   "execution_count": 30,
   "metadata": {},
   "outputs": [
    {
     "name": "stdout",
     "output_type": "stream",
     "text": [
      "CPU times: user 1min 11s, sys: 7.66 s, total: 1min 19s\n",
      "Wall time: 1min 42s\n"
     ]
    }
   ],
   "source": [
    "%%time\n",
    "answer_info = pd.read_csv(os.path.join(PATH, 'answer_info_0926.txt'), \n",
    "                          names=['answer_id', 'question_id', 'author_id', 'answer_time', 'content_sw_series', 'content_w_series', \n",
    "                                 'excellent', 'recommend', 'round_table', 'figure', 'video', \n",
    "                                 'num_word', 'num_like', 'num_unlike', 'num_comment',\n",
    "                                 'num_favor', 'num_thank', 'num_report', 'num_nohelp', 'num_oppose'], sep='\\t')\n",
    "answer_info.head()"
   ]
  },
  {
   "cell_type": "code",
   "execution_count": 31,
   "metadata": {},
   "outputs": [
    {
     "data": {
      "text/html": [
       "<div>\n",
       "<style scoped>\n",
       "    .dataframe tbody tr th:only-of-type {\n",
       "        vertical-align: middle;\n",
       "    }\n",
       "\n",
       "    .dataframe tbody tr th {\n",
       "        vertical-align: top;\n",
       "    }\n",
       "\n",
       "    .dataframe thead th {\n",
       "        text-align: right;\n",
       "    }\n",
       "</style>\n",
       "<table border=\"1\" class=\"dataframe\">\n",
       "  <thead>\n",
       "    <tr style=\"text-align: right;\">\n",
       "      <th></th>\n",
       "      <th>answer_id</th>\n",
       "      <th>question_id</th>\n",
       "      <th>author_id</th>\n",
       "      <th>answer_time</th>\n",
       "      <th>content_sw_series</th>\n",
       "      <th>content_w_series</th>\n",
       "      <th>excellent</th>\n",
       "      <th>recommend</th>\n",
       "      <th>round_table</th>\n",
       "      <th>figure</th>\n",
       "      <th>video</th>\n",
       "      <th>num_word</th>\n",
       "      <th>num_like</th>\n",
       "      <th>num_unlike</th>\n",
       "      <th>num_comment</th>\n",
       "      <th>num_favor</th>\n",
       "      <th>num_thank</th>\n",
       "      <th>num_report</th>\n",
       "      <th>num_nohelp</th>\n",
       "      <th>num_oppose</th>\n",
       "    </tr>\n",
       "  </thead>\n",
       "  <tbody>\n",
       "    <tr>\n",
       "      <td>0</td>\n",
       "      <td>A2502060945</td>\n",
       "      <td>Q1867533817</td>\n",
       "      <td>M625498202</td>\n",
       "      <td>D3808-H7</td>\n",
       "      <td>[13, 19, 44, 150, 23, 594, 1254, 91, 3, 87, 48...</td>\n",
       "      <td>[239, 10528, 142, 20372, 6473, 10, 24, 4527, 2...</td>\n",
       "      <td>0</td>\n",
       "      <td>0</td>\n",
       "      <td>0</td>\n",
       "      <td>0</td>\n",
       "      <td>0</td>\n",
       "      <td>41</td>\n",
       "      <td>1</td>\n",
       "      <td>0</td>\n",
       "      <td>1</td>\n",
       "      <td>0</td>\n",
       "      <td>1</td>\n",
       "      <td>0</td>\n",
       "      <td>0</td>\n",
       "      <td>0</td>\n",
       "    </tr>\n",
       "    <tr>\n",
       "      <td>1</td>\n",
       "      <td>A2847829478</td>\n",
       "      <td>Q3366788616</td>\n",
       "      <td>M142330444</td>\n",
       "      <td>D3810-H17</td>\n",
       "      <td>[898, 3656, 2, 413, 601, 2, 2541, 681, 2, 4368...</td>\n",
       "      <td>[4628, 66060, 1607, 2647, 53385, 109029, 319, ...</td>\n",
       "      <td>0</td>\n",
       "      <td>0</td>\n",
       "      <td>0</td>\n",
       "      <td>0</td>\n",
       "      <td>0</td>\n",
       "      <td>204</td>\n",
       "      <td>1</td>\n",
       "      <td>0</td>\n",
       "      <td>0</td>\n",
       "      <td>3</td>\n",
       "      <td>1</td>\n",
       "      <td>0</td>\n",
       "      <td>0</td>\n",
       "      <td>0</td>\n",
       "    </tr>\n",
       "    <tr>\n",
       "      <td>2</td>\n",
       "      <td>A2005999231</td>\n",
       "      <td>Q4264694221</td>\n",
       "      <td>M771499642</td>\n",
       "      <td>D3853-H13</td>\n",
       "      <td>[9, 510, 573, 1348, 1304, 326, 509, 221, 40, 1...</td>\n",
       "      <td>[3532, 69108, 12395, 81311, 498, 850, 107789, ...</td>\n",
       "      <td>0</td>\n",
       "      <td>0</td>\n",
       "      <td>0</td>\n",
       "      <td>0</td>\n",
       "      <td>0</td>\n",
       "      <td>54</td>\n",
       "      <td>2</td>\n",
       "      <td>0</td>\n",
       "      <td>1</td>\n",
       "      <td>0</td>\n",
       "      <td>0</td>\n",
       "      <td>0</td>\n",
       "      <td>0</td>\n",
       "      <td>0</td>\n",
       "    </tr>\n",
       "    <tr>\n",
       "      <td>3</td>\n",
       "      <td>A14821523</td>\n",
       "      <td>Q1088851650</td>\n",
       "      <td>M2282072267</td>\n",
       "      <td>D3859-H18</td>\n",
       "      <td>[7, 16, 5, 144, 302, 20, 1752, 60, 75, 75, 655...</td>\n",
       "      <td>[1425, 1676, 3700, 325, 6485, 1090, 8342, 9689...</td>\n",
       "      <td>0</td>\n",
       "      <td>0</td>\n",
       "      <td>0</td>\n",
       "      <td>0</td>\n",
       "      <td>0</td>\n",
       "      <td>42</td>\n",
       "      <td>1</td>\n",
       "      <td>0</td>\n",
       "      <td>1</td>\n",
       "      <td>0</td>\n",
       "      <td>1</td>\n",
       "      <td>0</td>\n",
       "      <td>0</td>\n",
       "      <td>0</td>\n",
       "    </tr>\n",
       "    <tr>\n",
       "      <td>4</td>\n",
       "      <td>A731550034</td>\n",
       "      <td>Q1023877868</td>\n",
       "      <td>M2282072267</td>\n",
       "      <td>D3855-H22</td>\n",
       "      <td>[7, 15, 596, 407, 1698, 68, 2, 56, 598, 544, 6...</td>\n",
       "      <td>[23420, 2610, 5506, 1489, 8749, 504, 1718, 252...</td>\n",
       "      <td>0</td>\n",
       "      <td>0</td>\n",
       "      <td>0</td>\n",
       "      <td>0</td>\n",
       "      <td>0</td>\n",
       "      <td>44</td>\n",
       "      <td>0</td>\n",
       "      <td>0</td>\n",
       "      <td>0</td>\n",
       "      <td>0</td>\n",
       "      <td>0</td>\n",
       "      <td>0</td>\n",
       "      <td>0</td>\n",
       "      <td>0</td>\n",
       "    </tr>\n",
       "  </tbody>\n",
       "</table>\n",
       "</div>"
      ],
      "text/plain": [
       "     answer_id  question_id    author_id answer_time  \\\n",
       "0  A2502060945  Q1867533817   M625498202    D3808-H7   \n",
       "1  A2847829478  Q3366788616   M142330444   D3810-H17   \n",
       "2  A2005999231  Q4264694221   M771499642   D3853-H13   \n",
       "3    A14821523  Q1088851650  M2282072267   D3859-H18   \n",
       "4   A731550034  Q1023877868  M2282072267   D3855-H22   \n",
       "\n",
       "                                   content_sw_series  \\\n",
       "0  [13, 19, 44, 150, 23, 594, 1254, 91, 3, 87, 48...   \n",
       "1  [898, 3656, 2, 413, 601, 2, 2541, 681, 2, 4368...   \n",
       "2  [9, 510, 573, 1348, 1304, 326, 509, 221, 40, 1...   \n",
       "3  [7, 16, 5, 144, 302, 20, 1752, 60, 75, 75, 655...   \n",
       "4  [7, 15, 596, 407, 1698, 68, 2, 56, 598, 544, 6...   \n",
       "\n",
       "                                    content_w_series  excellent  recommend  \\\n",
       "0  [239, 10528, 142, 20372, 6473, 10, 24, 4527, 2...          0          0   \n",
       "1  [4628, 66060, 1607, 2647, 53385, 109029, 319, ...          0          0   \n",
       "2  [3532, 69108, 12395, 81311, 498, 850, 107789, ...          0          0   \n",
       "3  [1425, 1676, 3700, 325, 6485, 1090, 8342, 9689...          0          0   \n",
       "4  [23420, 2610, 5506, 1489, 8749, 504, 1718, 252...          0          0   \n",
       "\n",
       "   round_table  figure  video  num_word  num_like  num_unlike  num_comment  \\\n",
       "0            0       0      0        41         1           0            1   \n",
       "1            0       0      0       204         1           0            0   \n",
       "2            0       0      0        54         2           0            1   \n",
       "3            0       0      0        42         1           0            1   \n",
       "4            0       0      0        44         0           0            0   \n",
       "\n",
       "   num_favor  num_thank  num_report  num_nohelp  num_oppose  \n",
       "0          0          1           0           0           0  \n",
       "1          3          1           0           0           0  \n",
       "2          0          0           0           0           0  \n",
       "3          0          1           0           0           0  \n",
       "4          0          0           0           0           0  "
      ]
     },
     "execution_count": 31,
     "metadata": {},
     "output_type": "execute_result"
    }
   ],
   "source": [
    "answer_info['content_sw_series'] = answer_info['content_sw_series'].apply(parse_list_2) \n",
    "answer_info['content_w_series'] = answer_info['content_w_series'].apply(parse_list_1) \n",
    "answer_info.head()"
   ]
  },
  {
   "cell_type": "code",
   "execution_count": 32,
   "metadata": {},
   "outputs": [
    {
     "data": {
      "text/plain": [
       "0"
      ]
     },
     "execution_count": 32,
     "metadata": {},
     "output_type": "execute_result"
    }
   ],
   "source": [
    "answer_info['answer_day'] = answer_info['answer_time'].apply(lambda x: int(x.split('-')[0][1:])).astype(np.int16)\n",
    "answer_info['answer_hour'] = answer_info['answer_time'].apply(lambda x: int(x.split('-')[1][1:])).astype(np.int8)\n",
    "del answer_info['answer_time']\n",
    "gc.collect()"
   ]
  },
  {
   "cell_type": "code",
   "execution_count": 33,
   "metadata": {},
   "outputs": [
    {
     "name": "stdout",
     "output_type": "stream",
     "text": [
      "Memory usage of dataframe is 667.22 MB\n",
      "Memory usage after optimization is: 318.54 MB\n",
      "Decreased by 52.3%\n"
     ]
    }
   ],
   "source": [
    "answer_info = reduce_mem_usage(answer_info)"
   ]
  },
  {
   "cell_type": "code",
   "execution_count": 34,
   "metadata": {},
   "outputs": [
    {
     "data": {
      "text/plain": [
       "0"
      ]
     },
     "execution_count": 34,
     "metadata": {},
     "output_type": "execute_result"
    }
   ],
   "source": [
    "with open('../pkl/answer_info.pkl', 'wb') as file:\n",
    "    pickle.dump(answer_info, file)\n",
    "\n",
    "del answer_info\n",
    "gc.collect()"
   ]
  },
  {
   "cell_type": "code",
   "execution_count": 35,
   "metadata": {},
   "outputs": [],
   "source": [
    "toc = time.time()"
   ]
  },
  {
   "cell_type": "code",
   "execution_count": 36,
   "metadata": {},
   "outputs": [
    {
     "name": "stdout",
     "output_type": "stream",
     "text": [
      "Used time: 1137\n"
     ]
    }
   ],
   "source": [
    "print('Used time: %d' % int(toc-tic))"
   ]
  },
  {
   "cell_type": "code",
   "execution_count": 37,
   "metadata": {},
   "outputs": [],
   "source": [
    "with open('../pkl/answer_info.pkl', 'rb') as file:\n",
    "    answer_info = pickle.load(file)"
   ]
  },
  {
   "cell_type": "code",
   "execution_count": 46,
   "metadata": {},
   "outputs": [],
   "source": [
    "pd.set_option('display.max_columns', None)\n",
    "pd.set_option('display.max_rows', None)\n",
    "pd.set_option('max_colwidth',100)"
   ]
  },
  {
   "cell_type": "code",
   "execution_count": 47,
   "metadata": {},
   "outputs": [
    {
     "data": {
      "text/html": [
       "<div>\n",
       "<style scoped>\n",
       "    .dataframe tbody tr th:only-of-type {\n",
       "        vertical-align: middle;\n",
       "    }\n",
       "\n",
       "    .dataframe tbody tr th {\n",
       "        vertical-align: top;\n",
       "    }\n",
       "\n",
       "    .dataframe thead th {\n",
       "        text-align: right;\n",
       "    }\n",
       "</style>\n",
       "<table border=\"1\" class=\"dataframe\">\n",
       "  <thead>\n",
       "    <tr style=\"text-align: right;\">\n",
       "      <th></th>\n",
       "      <th>answer_id</th>\n",
       "      <th>question_id</th>\n",
       "      <th>author_id</th>\n",
       "      <th>content_sw_series</th>\n",
       "      <th>content_w_series</th>\n",
       "      <th>excellent</th>\n",
       "      <th>recommend</th>\n",
       "      <th>round_table</th>\n",
       "      <th>figure</th>\n",
       "      <th>video</th>\n",
       "      <th>num_word</th>\n",
       "      <th>num_like</th>\n",
       "      <th>num_unlike</th>\n",
       "      <th>num_comment</th>\n",
       "      <th>num_favor</th>\n",
       "      <th>num_thank</th>\n",
       "      <th>num_report</th>\n",
       "      <th>num_nohelp</th>\n",
       "      <th>num_oppose</th>\n",
       "      <th>answer_day</th>\n",
       "      <th>answer_hour</th>\n",
       "    </tr>\n",
       "  </thead>\n",
       "  <tbody>\n",
       "    <tr>\n",
       "      <td>0</td>\n",
       "      <td>A2502060945</td>\n",
       "      <td>Q1867533817</td>\n",
       "      <td>M625498202</td>\n",
       "      <td>[13, 19, 44, 150, 23, 594, 1254, 91, 3, 87, 48, 13, 1, 1144, 429, 6606, 3240, 1348, 8, 49, 8, 13...</td>\n",
       "      <td>[239, 10528, 142, 20372, 6473, 10, 24, 4527, 20372, 13100, 147, 1491, 10, 24, 4527, 13100]</td>\n",
       "      <td>0</td>\n",
       "      <td>0</td>\n",
       "      <td>0</td>\n",
       "      <td>0</td>\n",
       "      <td>0</td>\n",
       "      <td>41</td>\n",
       "      <td>1</td>\n",
       "      <td>0</td>\n",
       "      <td>1</td>\n",
       "      <td>0</td>\n",
       "      <td>1</td>\n",
       "      <td>0</td>\n",
       "      <td>0</td>\n",
       "      <td>0</td>\n",
       "      <td>3808</td>\n",
       "      <td>7</td>\n",
       "    </tr>\n",
       "    <tr>\n",
       "      <td>1</td>\n",
       "      <td>A2847829478</td>\n",
       "      <td>Q3366788616</td>\n",
       "      <td>M142330444</td>\n",
       "      <td>[898, 3656, 2, 413, 601, 2, 2541, 681, 2, 4368, 601, 2, 18, 148, 184, 453, 1186, 3, 413, 601, 16...</td>\n",
       "      <td>[4628, 66060, 1607, 2647, 53385, 109029, 319, 443, 4092, 1607, 2647, 6138, 4628, 66060, 11864, 3...</td>\n",
       "      <td>0</td>\n",
       "      <td>0</td>\n",
       "      <td>0</td>\n",
       "      <td>0</td>\n",
       "      <td>0</td>\n",
       "      <td>204</td>\n",
       "      <td>1</td>\n",
       "      <td>0</td>\n",
       "      <td>0</td>\n",
       "      <td>3</td>\n",
       "      <td>1</td>\n",
       "      <td>0</td>\n",
       "      <td>0</td>\n",
       "      <td>0</td>\n",
       "      <td>3810</td>\n",
       "      <td>17</td>\n",
       "    </tr>\n",
       "    <tr>\n",
       "      <td>2</td>\n",
       "      <td>A2005999231</td>\n",
       "      <td>Q4264694221</td>\n",
       "      <td>M771499642</td>\n",
       "      <td>[9, 510, 573, 1348, 1304, 326, 509, 221, 40, 153, 896, 1685, 42, 195, 2, 274, 349, 72, 1206, 141...</td>\n",
       "      <td>[3532, 69108, 12395, 81311, 498, 850, 107789, 31394, 2608, 878, 9429, 5367, 2368, 2344, 2852, 2370]</td>\n",
       "      <td>0</td>\n",
       "      <td>0</td>\n",
       "      <td>0</td>\n",
       "      <td>0</td>\n",
       "      <td>0</td>\n",
       "      <td>54</td>\n",
       "      <td>2</td>\n",
       "      <td>0</td>\n",
       "      <td>1</td>\n",
       "      <td>0</td>\n",
       "      <td>0</td>\n",
       "      <td>0</td>\n",
       "      <td>0</td>\n",
       "      <td>0</td>\n",
       "      <td>3853</td>\n",
       "      <td>13</td>\n",
       "    </tr>\n",
       "    <tr>\n",
       "      <td>3</td>\n",
       "      <td>A14821523</td>\n",
       "      <td>Q1088851650</td>\n",
       "      <td>M2282072267</td>\n",
       "      <td>[7, 16, 5, 144, 302, 20, 1752, 60, 75, 75, 655, 3863, 28, 26, 2, 536, 853, 256, 118, 503, 25, 16...</td>\n",
       "      <td>[1425, 1676, 3700, 325, 6485, 1090, 8342, 9689, 3727]</td>\n",
       "      <td>0</td>\n",
       "      <td>0</td>\n",
       "      <td>0</td>\n",
       "      <td>0</td>\n",
       "      <td>0</td>\n",
       "      <td>42</td>\n",
       "      <td>1</td>\n",
       "      <td>0</td>\n",
       "      <td>1</td>\n",
       "      <td>0</td>\n",
       "      <td>1</td>\n",
       "      <td>0</td>\n",
       "      <td>0</td>\n",
       "      <td>0</td>\n",
       "      <td>3859</td>\n",
       "      <td>18</td>\n",
       "    </tr>\n",
       "    <tr>\n",
       "      <td>4</td>\n",
       "      <td>A731550034</td>\n",
       "      <td>Q1023877868</td>\n",
       "      <td>M2282072267</td>\n",
       "      <td>[7, 15, 596, 407, 1698, 68, 2, 56, 598, 544, 684, 3, 2928, 732, 91, 410, 767, 1432, 16, 66, 2, 1...</td>\n",
       "      <td>[23420, 2610, 5506, 1489, 8749, 504, 1718, 2525, 155, 9867, 452, 703]</td>\n",
       "      <td>0</td>\n",
       "      <td>0</td>\n",
       "      <td>0</td>\n",
       "      <td>0</td>\n",
       "      <td>0</td>\n",
       "      <td>44</td>\n",
       "      <td>0</td>\n",
       "      <td>0</td>\n",
       "      <td>0</td>\n",
       "      <td>0</td>\n",
       "      <td>0</td>\n",
       "      <td>0</td>\n",
       "      <td>0</td>\n",
       "      <td>0</td>\n",
       "      <td>3855</td>\n",
       "      <td>22</td>\n",
       "    </tr>\n",
       "  </tbody>\n",
       "</table>\n",
       "</div>"
      ],
      "text/plain": [
       "     answer_id  question_id    author_id  \\\n",
       "0  A2502060945  Q1867533817   M625498202   \n",
       "1  A2847829478  Q3366788616   M142330444   \n",
       "2  A2005999231  Q4264694221   M771499642   \n",
       "3    A14821523  Q1088851650  M2282072267   \n",
       "4   A731550034  Q1023877868  M2282072267   \n",
       "\n",
       "                                                                                     content_sw_series  \\\n",
       "0  [13, 19, 44, 150, 23, 594, 1254, 91, 3, 87, 48, 13, 1, 1144, 429, 6606, 3240, 1348, 8, 49, 8, 13...   \n",
       "1  [898, 3656, 2, 413, 601, 2, 2541, 681, 2, 4368, 601, 2, 18, 148, 184, 453, 1186, 3, 413, 601, 16...   \n",
       "2  [9, 510, 573, 1348, 1304, 326, 509, 221, 40, 153, 896, 1685, 42, 195, 2, 274, 349, 72, 1206, 141...   \n",
       "3  [7, 16, 5, 144, 302, 20, 1752, 60, 75, 75, 655, 3863, 28, 26, 2, 536, 853, 256, 118, 503, 25, 16...   \n",
       "4  [7, 15, 596, 407, 1698, 68, 2, 56, 598, 544, 684, 3, 2928, 732, 91, 410, 767, 1432, 16, 66, 2, 1...   \n",
       "\n",
       "                                                                                      content_w_series  \\\n",
       "0           [239, 10528, 142, 20372, 6473, 10, 24, 4527, 20372, 13100, 147, 1491, 10, 24, 4527, 13100]   \n",
       "1  [4628, 66060, 1607, 2647, 53385, 109029, 319, 443, 4092, 1607, 2647, 6138, 4628, 66060, 11864, 3...   \n",
       "2  [3532, 69108, 12395, 81311, 498, 850, 107789, 31394, 2608, 878, 9429, 5367, 2368, 2344, 2852, 2370]   \n",
       "3                                                [1425, 1676, 3700, 325, 6485, 1090, 8342, 9689, 3727]   \n",
       "4                                [23420, 2610, 5506, 1489, 8749, 504, 1718, 2525, 155, 9867, 452, 703]   \n",
       "\n",
       "   excellent  recommend  round_table  figure  video  num_word  num_like  \\\n",
       "0          0          0            0       0      0        41         1   \n",
       "1          0          0            0       0      0       204         1   \n",
       "2          0          0            0       0      0        54         2   \n",
       "3          0          0            0       0      0        42         1   \n",
       "4          0          0            0       0      0        44         0   \n",
       "\n",
       "   num_unlike  num_comment  num_favor  num_thank  num_report  num_nohelp  \\\n",
       "0           0            1          0          1           0           0   \n",
       "1           0            0          3          1           0           0   \n",
       "2           0            1          0          0           0           0   \n",
       "3           0            1          0          1           0           0   \n",
       "4           0            0          0          0           0           0   \n",
       "\n",
       "   num_oppose  answer_day  answer_hour  \n",
       "0           0        3808            7  \n",
       "1           0        3810           17  \n",
       "2           0        3853           13  \n",
       "3           0        3859           18  \n",
       "4           0        3855           22  "
      ]
     },
     "execution_count": 47,
     "metadata": {},
     "output_type": "execute_result"
    }
   ],
   "source": [
    "answer_info.head()"
   ]
  },
  {
   "cell_type": "code",
   "execution_count": 39,
   "metadata": {},
   "outputs": [
    {
     "data": {
      "text/plain": [
       "(4513735, 21)"
      ]
     },
     "execution_count": 39,
     "metadata": {},
     "output_type": "execute_result"
    }
   ],
   "source": [
    "answer_info.shape"
   ]
  },
  {
   "cell_type": "code",
   "execution_count": 49,
   "metadata": {},
   "outputs": [
    {
     "data": {
      "text/plain": [
       "0       4464217\n",
       "1         38183\n",
       "2          5923\n",
       "3          2149\n",
       "4          1059\n",
       "5           625\n",
       "6           419\n",
       "7           265\n",
       "8           183\n",
       "9           133\n",
       "10          102\n",
       "11           69\n",
       "12           58\n",
       "13           44\n",
       "16           43\n",
       "14           33\n",
       "15           31\n",
       "19           25\n",
       "17           18\n",
       "22           12\n",
       "21           11\n",
       "24           11\n",
       "18           10\n",
       "23           10\n",
       "28            8\n",
       "20            8\n",
       "25            7\n",
       "29            7\n",
       "32            7\n",
       "31            6\n",
       "27            6\n",
       "34            5\n",
       "30            5\n",
       "26            4\n",
       "33            3\n",
       "37            3\n",
       "45            3\n",
       "40            2\n",
       "53            2\n",
       "48            2\n",
       "46            2\n",
       "38            2\n",
       "36            2\n",
       "35            2\n",
       "77            1\n",
       "68            1\n",
       "102           1\n",
       "63            1\n",
       "67            1\n",
       "177           1\n",
       "66            1\n",
       "43            1\n",
       "58            1\n",
       "57            1\n",
       "47            1\n",
       "42            1\n",
       "41            1\n",
       "39            1\n",
       "845           1\n",
       "2065          1\n",
       "Name: num_nohelp, dtype: int64"
      ]
     },
     "execution_count": 49,
     "metadata": {},
     "output_type": "execute_result"
    }
   ],
   "source": [
    "answer_info['num_nohelp'].value_counts()"
   ]
  },
  {
   "cell_type": "code",
   "execution_count": 44,
   "metadata": {},
   "outputs": [
    {
     "data": {
      "text/plain": [
       "0    4513621\n",
       "1        114\n",
       "Name: recommend, dtype: int64"
      ]
     },
     "execution_count": 44,
     "metadata": {},
     "output_type": "execute_result"
    }
   ],
   "source": [
    "answer_info['recommend'].value_counts()"
   ]
  },
  {
   "cell_type": "code",
   "execution_count": 43,
   "metadata": {},
   "outputs": [
    {
     "data": {
      "text/plain": [
       "0    4513735\n",
       "Name: round_table, dtype: int64"
      ]
     },
     "execution_count": 43,
     "metadata": {},
     "output_type": "execute_result"
    }
   ],
   "source": [
    "answer_info['round_table'].value_counts()"
   ]
  },
  {
   "cell_type": "code",
   "execution_count": null,
   "metadata": {},
   "outputs": [],
   "source": []
  }
 ],
 "metadata": {
  "kernelspec": {
   "display_name": "Python 3",
   "language": "python",
   "name": "python3"
  },
  "language_info": {
   "codemirror_mode": {
    "name": "ipython",
    "version": 3
   },
   "file_extension": ".py",
   "mimetype": "text/x-python",
   "name": "python",
   "nbconvert_exporter": "python",
   "pygments_lexer": "ipython3",
   "version": "3.6.5"
  }
 },
 "nbformat": 4,
 "nbformat_minor": 2
}
